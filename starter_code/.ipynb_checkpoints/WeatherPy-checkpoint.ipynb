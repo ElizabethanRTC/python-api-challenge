{
 "cells": [
  {
   "cell_type": "markdown",
   "metadata": {},
   "source": [
    "# WeatherPy\n",
    "----\n",
    "\n",
    "#### Note\n",
    "* Instructions have been included for each segment. You do not have to follow them exactly, but they are included to help you think through the steps."
   ]
  },
  {
   "cell_type": "code",
   "execution_count": 1,
   "metadata": {
    "scrolled": true
   },
   "outputs": [],
   "source": [
    "# Dependencies and Setup\n",
    "import matplotlib.pyplot as plt\n",
    "import pandas as pd\n",
    "import numpy as np\n",
    "import requests\n",
    "import time\n",
    "from scipy.stats import linregress\n",
    "import json\n",
    "from pprint import pprint\n",
    "\n",
    "# Import API key\n",
    "from api_keys import weather_api_key\n",
    "\n",
    "# Incorporated citipy to determine city based on latitude and longitude\n",
    "from citipy import citipy\n",
    "\n",
    "# Output File (CSV)\n",
    "output_data_file = \"output_data/cities.csv\"\n",
    "\n",
    "# Range of latitudes and longitudes\n",
    "lat_range = (-90, 90)\n",
    "lng_range = (-180, 180)"
   ]
  },
  {
   "cell_type": "markdown",
   "metadata": {},
   "source": [
    "## Generate Cities List"
   ]
  },
  {
   "cell_type": "code",
   "execution_count": 2,
   "metadata": {},
   "outputs": [
    {
     "name": "stdout",
     "output_type": "stream",
     "text": [
      "Total number of cities: 629\n"
     ]
    }
   ],
   "source": [
    "# List for holding lat_lngs and cities\n",
    "lat_lngs = []\n",
    "cities = []\n",
    "\n",
    "# Create a set of random lat and lng combinations\n",
    "lats = np.random.uniform(lat_range[0], lat_range[1], size=1500)\n",
    "lngs = np.random.uniform(lng_range[0], lng_range[1], size=1500)\n",
    "lat_lngs = zip(lats, lngs)\n",
    "\n",
    "# Identify nearest city for each lat, lng combination\n",
    "for lat_lng in lat_lngs:\n",
    "    city = citipy.nearest_city(lat_lng[0], lat_lng[1]).city_name\n",
    "    \n",
    "    # If the city is unique, then add it to a our cities list\n",
    "    if city not in cities:\n",
    "        cities.append(city)\n",
    "\n",
    "# Print the city count to confirm sufficient count\n",
    "print(f\"Total number of cities: {len(cities)}\")\n",
    "\n"
   ]
  },
  {
   "cell_type": "markdown",
   "metadata": {},
   "source": [
    "### Perform API Calls\n",
    "* Perform a weather check on each city using a series of successive API calls.\n",
    "* Include a print log of each city as it'sbeing processed (with the city number and city name).\n"
   ]
  },
  {
   "cell_type": "code",
   "execution_count": 17,
   "metadata": {},
   "outputs": [],
   "source": [
    "# Create query\n",
    "units = 'Metric'\n",
    "url = \"http://api.openweathermap.org/data/2.5/weather?\"\n",
    "query_url = f\"{url}appid={weather_api_key}&units{units}&q=\"\n"
   ]
  },
  {
   "cell_type": "code",
   "execution_count": 18,
   "metadata": {
    "scrolled": true
   },
   "outputs": [
    {
     "name": "stdout",
     "output_type": "stream",
     "text": [
      "------\n",
      "Beginning Data Retrieval \n",
      "------\n",
      "Processing record 1|Cape Town\n",
      "Processing record 2|Dikson\n",
      "Processing record 3|Vardø\n",
      "Processing record 4|Albany\n",
      "Processing record 5|Hobart\n",
      "Processing record 6|Gaya\n",
      "City not found. Skipping...\n",
      "Processing record 7|Mataura\n",
      "Processing record 8|Hermanus\n",
      "Processing record 9|Hilo\n",
      "City not found. Skipping...\n",
      "Processing record 10|Rikitea\n",
      "Processing record 11|Road Town\n",
      "Processing record 12|Inhambane\n",
      "Processing record 13|Kapaa\n",
      "City not found. Skipping...\n",
      "Processing record 14|Constitución\n",
      "Processing record 15|Ushuaia\n",
      "Processing record 16|Langham\n",
      "Processing record 17|Saint-Pierre\n",
      "Processing record 18|San Rafael\n",
      "Processing record 19|Qaanaaq\n",
      "Processing record 20|Iqaluit\n",
      "Processing record 21|Lata\n",
      "Processing record 22|Carnarvon\n",
      "Processing record 23|Ribeira Grande\n",
      "City not found. Skipping...\n",
      "Processing record 24|Busselton\n",
      "Processing record 25|Walvis Bay\n",
      "Processing record 26|Vaini\n",
      "City not found. Skipping...\n",
      "City not found. Skipping...\n",
      "Processing record 27|Arraial do Cabo\n",
      "City not found. Skipping...\n",
      "Processing record 28|Nikolskoye\n",
      "Processing record 29|Petropavlovsk-Kamchatskiy\n",
      "Processing record 30|Ponta Delgada\n",
      "Processing record 31|Atuona\n",
      "Processing record 32|Tommot\n",
      "Processing record 33|Ukiah\n",
      "Processing record 34|Bitam\n",
      "City not found. Skipping...\n",
      "Processing record 35|Punta Arenas\n",
      "Processing record 36|Swellendam\n",
      "Processing record 37|Wanning\n",
      "Processing record 38|Puerto Ayora\n",
      "Processing record 39|Wawa\n",
      "Processing record 40|Hay River\n",
      "Processing record 41|Souillac\n",
      "Processing record 42|Hasaki\n",
      "City not found. Skipping...\n",
      "Processing record 43|Otane\n",
      "Processing record 44|Kurchum\n",
      "Processing record 45|Bengkulu\n",
      "Processing record 46|Kilindoni\n",
      "Processing record 47|Tazovsky\n",
      "Processing record 48|Fairbanks\n",
      "Processing record 49|Channel-Port aux Basques\n",
      "Processing record 50|Saldanha\n",
      "Processing record 51|Port Augusta\n",
      "Processing record 52|Shetpe\n",
      "Processing record 53|Cidreira\n",
      "Processing record 54|Yellowknife\n",
      "Processing record 55|Mazsalaca\n",
      "Processing record 56|Kyren\n",
      "Processing record 57|Faanui\n",
      "Processing record 58|Silva Jardim\n",
      "Processing record 59|Padang\n",
      "Processing record 60|Ayan\n",
      "City not found. Skipping...\n",
      "Processing record 61|Tuktoyaktuk\n",
      "Processing record 62|Ati\n",
      "Processing record 63|Barrow\n",
      "Processing record 64|Bragança\n",
      "Processing record 65|Tinyahuarco\n",
      "Processing record 66|Los Llanos de Aridane\n",
      "City not found. Skipping...\n",
      "Processing record 67|Sitka\n",
      "Processing record 68|Kudahuvadhoo\n",
      "City not found. Skipping...\n",
      "Processing record 69|Mar del Plata\n",
      "Processing record 70|Kailua\n",
      "Processing record 71|Anshun\n",
      "Processing record 72|Oranjemund\n",
      "Processing record 73|Jamestown\n",
      "Processing record 74|Husavik\n",
      "Processing record 75|San Patricio\n",
      "Processing record 76|Bud\n",
      "Processing record 77|New Norfolk\n",
      "Processing record 78|Victor Harbor\n",
      "City not found. Skipping...\n",
      "Processing record 79|Nago\n",
      "Processing record 80|Srednekolymsk\n",
      "Processing record 81|Port Macquarie\n",
      "Processing record 82|Tyler\n",
      "Processing record 83|Airai\n",
      "Processing record 84|Namatanai\n",
      "Processing record 85|Cabo San Lucas\n",
      "Processing record 86|Jaca\n",
      "Processing record 87|Rantepao\n",
      "Processing record 88|Thinadhoo\n",
      "Processing record 89|Lakes Entrance\n",
      "Processing record 90|La Santisima Trinidad\n",
      "Processing record 91|Teleneşti\n",
      "Processing record 92|Kaitangata\n",
      "Processing record 93|Lorengau\n",
      "Processing record 94|Mahébourg\n",
      "Processing record 95|Chekhov\n",
      "Processing record 96|Klaksvík\n",
      "Processing record 97|Charters Towers\n",
      "Processing record 98|Port Alfred\n",
      "Processing record 99|Falmouth\n",
      "Processing record 100|La Asuncion\n",
      "Processing record 101|Fonte Boa\n",
      "Processing record 102|Saint-Joseph\n",
      "Processing record 103|Ancud\n",
      "Processing record 104|Nanortalik\n",
      "Processing record 105|Fortuna\n",
      "Processing record 106|Rizhao\n",
      "Processing record 107|East London\n",
      "Processing record 108|Gijang\n",
      "Processing record 109|St. George's\n",
      "Processing record 110|Araouane\n",
      "Processing record 111|Ostrovnoy\n",
      "Processing record 112|Abasolo\n",
      "Processing record 113|Wilmington\n",
      "Processing record 114|Muroto-misakicho\n",
      "Processing record 115|Saskylakh\n",
      "Processing record 116|Talnakh\n",
      "Processing record 117|Kununurra\n",
      "Processing record 118|São Filipe\n",
      "Processing record 119|Bluff\n",
      "Processing record 120|Tapa\n",
      "Processing record 121|Alta Floresta\n",
      "Processing record 122|Ust-Maya\n",
      "Processing record 123|Tasiilaq\n",
      "Processing record 124|Maningrida\n",
      "Processing record 125|Karratha\n",
      "Processing record 126|Saint-Philippe\n",
      "Processing record 127|Vila Franca do Campo\n",
      "City not found. Skipping...\n",
      "Processing record 128|Esperance\n",
      "Processing record 129|Biak\n",
      "Processing record 130|Taoudenni\n",
      "Processing record 131|Ngunguru\n",
      "Processing record 132|Alyangula\n",
      "City not found. Skipping...\n",
      "Processing record 133|Yanahuanca\n",
      "Processing record 134|Manzanillo\n",
      "Processing record 135|Bontoc\n",
      "Processing record 136|Copiapó\n",
      "Processing record 137|Touros\n",
      "Processing record 138|Lungi\n",
      "Processing record 139|Lüderitz\n",
      "Processing record 140|Mehamn\n",
      "Processing record 141|Biltine\n",
      "Processing record 142|Lubsko\n",
      "Processing record 143|Eureka\n",
      "Processing record 144|Çubuk\n",
      "Processing record 145|Avera\n",
      "Processing record 146|Moose Factory\n",
      "City not found. Skipping...\n",
      "Processing record 147|Belen\n",
      "Processing record 148|Ilulissat\n",
      "Processing record 149|Kasama\n",
      "Processing record 150|Aksarka\n",
      "Processing record 151|Tungor\n",
      "Processing record 152|Port Pirie\n",
      "Processing record 153|Leningradskiy\n",
      "Processing record 154|Kumul\n",
      "Processing record 155|Bredasdorp\n",
      "Processing record 156|Kamenka\n",
      "Processing record 157|Djibouti\n",
      "Processing record 158|Vestmannaeyjar\n",
      "Processing record 159|Portland\n",
      "Processing record 160|Kidodi\n",
      "Processing record 161|Lugoba\n",
      "Processing record 162|Bambous Virieux\n",
      "Processing record 163|Panjāb\n",
      "Processing record 164|Mossamedes\n",
      "Processing record 165|Mogadishu\n",
      "Processing record 166|Salalah\n",
      "Processing record 167|Tiarei\n",
      "Processing record 168|Rio Grande\n",
      "Processing record 169|Longyearbyen\n",
      "Processing record 170|Thurso\n",
      "Processing record 171|Khatanga\n",
      "Processing record 172|Butaritari\n",
      "Processing record 173|Birin\n",
      "Processing record 174|Deputatsky\n",
      "Processing record 175|Mwene-Ditu\n",
      "Processing record 176|Havre-St-Pierre\n",
      "Processing record 177|Ponta do Sol\n",
      "Processing record 178|Port Elizabeth\n",
      "Processing record 179|Lebu\n",
      "Processing record 180|Boa Vista\n",
      "City not found. Skipping...\n",
      "Processing record 181|Aktobe\n",
      "City not found. Skipping...\n",
      "Processing record 182|Hokitika\n",
      "Processing record 183|Olovyannaya\n",
      "Processing record 184|Cam Ranh\n",
      "Processing record 185|Ugoofaaru\n",
      "Processing record 186|Raudeberg\n",
      "Processing record 187|Kruisfontein\n",
      "City not found. Skipping...\n",
      "Processing record 188|Kalmunai\n",
      "Processing record 189|Severo-Kuril'sk\n",
      "Processing record 190|George Town\n",
      "Processing record 191|Pisco\n",
      "Processing record 192|Puerto Rico\n",
      "Processing record 193|Bonnyville\n",
      "Processing record 194|Pontianak\n",
      "Processing record 195|Maceió\n",
      "Processing record 196|Lavrentiya\n",
      "Processing record 197|Polson\n",
      "Processing record 198|Bandarbeyla\n",
      "Processing record 199|Muhos\n",
      "Processing record 200|São Gabriel da Cachoeira\n",
      "Processing record 201|Halden\n",
      "Processing record 202|Bontang\n",
      "Processing record 203|Guerrero Negro\n",
      "Processing record 204|Bouar\n",
      "Processing record 205|Kharan\n",
      "City not found. Skipping...\n",
      "Processing record 206|Grand-Lahou\n",
      "Processing record 207|Kommunisticheskiy\n",
      "Processing record 208|Santa María del Oro\n",
      "Processing record 209|Saint Paul Harbor\n",
      "Processing record 210|Ust-Kuyga\n",
      "Processing record 211|Porto-Novo\n",
      "Processing record 212|Uthal\n",
      "Processing record 213|Pundaguitan\n",
      "Processing record 214|Jumla\n",
      "Processing record 215|Khangarh\n",
      "City not found. Skipping...\n",
      "Processing record 216|Yar\n",
      "Processing record 217|Christchurch\n",
      "Processing record 218|Arona\n",
      "Processing record 219|Isangel\n",
      "Processing record 220|Boyabat\n",
      "Processing record 221|Tuscaloosa\n",
      "Processing record 222|Huilong\n",
      "Processing record 223|Tura\n",
      "Processing record 224|Lompoc\n",
      "Processing record 225|Golden\n",
      "City not found. Skipping...\n",
      "City not found. Skipping...\n",
      "Processing record 226|Alice\n",
      "Processing record 227|Tiksi\n",
      "Processing record 228|Calvinia\n",
      "Processing record 229|Thompson\n",
      "Processing record 230|Tuatapere\n",
      "Processing record 231|Bemidji\n",
      "Processing record 232|Port Blair\n",
      "City not found. Skipping...\n",
      "Processing record 233|Arman'\n",
      "Processing record 234|Bianzhuang\n",
      "Processing record 235|Portage\n",
      "Processing record 236|Hong Kong\n",
      "Processing record 237|Wuxue\n",
      "Processing record 238|Chui\n",
      "Processing record 239|Port Hedland\n"
     ]
    },
    {
     "name": "stdout",
     "output_type": "stream",
     "text": [
      "Processing record 240|Pevek\n",
      "Processing record 241|Karpathos\n",
      "Processing record 242|Santa Isabel Rio Negro\n",
      "Processing record 243|Avarua\n",
      "Processing record 244|Pitimbu\n",
      "Processing record 245|Wanaka\n",
      "City not found. Skipping...\n",
      "Processing record 246|Severo-Yeniseyskiy\n",
      "Processing record 247|Olafsvik\n",
      "Processing record 248|Beringovskiy\n",
      "Processing record 249|Manjakandriana\n",
      "Processing record 250|Castro\n",
      "Processing record 251|Ucluelet\n",
      "Processing record 252|Kiryat Gat\n",
      "Processing record 253|Mayskiy\n",
      "Processing record 254|College\n",
      "Processing record 255|Sola\n",
      "Processing record 256|Pulivendla\n",
      "Processing record 257|Hirara\n",
      "Processing record 258|Beckley\n",
      "Processing record 259|Sangar\n",
      "Processing record 260|Esim\n",
      "Processing record 261|Cayenne\n",
      "Processing record 262|Calama\n",
      "Processing record 263|Broome\n",
      "City not found. Skipping...\n",
      "Processing record 264|Province of Mantua\n",
      "Processing record 265|Sibu\n",
      "Processing record 266|Astoria\n",
      "Processing record 267|Fort Saint James\n",
      "Processing record 268|Okha\n",
      "Processing record 269|Hofn\n",
      "Processing record 270|Kavieng\n",
      "Processing record 271|City of San Pedro\n",
      "Processing record 272|Toyo\n",
      "Processing record 273|Balikpapan\n",
      "Processing record 274|Flin Flon\n",
      "Processing record 275|Broken Hill\n",
      "Processing record 276|Eenhana\n",
      "Processing record 277|Urucurituba\n",
      "Processing record 278|Stilfontein\n",
      "Processing record 279|Hithadhoo\n",
      "Processing record 280|Pangnirtung\n",
      "Processing record 281|Coquimbo\n",
      "Processing record 282|Tocopilla\n",
      "Processing record 283|Mayumba\n",
      "Processing record 284|Anadyr\n",
      "Processing record 285|Poum\n",
      "Processing record 286|Katsuura\n",
      "Processing record 287|Makokou\n",
      "Processing record 288|Bichura\n",
      "Processing record 289|Tongzi\n",
      "Processing record 290|Vao\n",
      "Processing record 291|Nautla\n",
      "Processing record 292|Grand Gaube\n",
      "Processing record 293|Miyako\n",
      "Processing record 294|Suntar\n",
      "Processing record 295|Orocué\n",
      "Processing record 296|Rānāpur\n",
      "Processing record 297|Richards Bay\n",
      "Processing record 298|Río Gallegos\n",
      "Processing record 299|Crailsheim\n",
      "Processing record 300|Labuhan\n",
      "Processing record 301|San Quintín\n",
      "Processing record 302|Acarí\n",
      "Processing record 303|Te Anau\n",
      "Processing record 304|Hamilton\n",
      "City not found. Skipping...\n",
      "Processing record 305|Upernavik\n",
      "Processing record 306|Vanimo\n",
      "Processing record 307|Gandajika\n",
      "Processing record 308|Timberlake\n",
      "Processing record 309|Muhafazat Lahij\n",
      "Processing record 310|Diadema\n",
      "Processing record 311|Marystown\n",
      "City not found. Skipping...\n",
      "Processing record 312|Aksu\n",
      "Processing record 313|Gualaquiza\n",
      "Processing record 314|Torit\n",
      "Processing record 315|Otuzco\n",
      "Processing record 316|At-Bashi\n",
      "Processing record 317|Xixiang\n",
      "Processing record 318|San Cristobal\n",
      "Processing record 319|Zavyalovo\n",
      "Processing record 320|Lalibela\n",
      "Processing record 321|Were Īlu\n",
      "Processing record 322|Itaituba\n",
      "Processing record 323|Narasannapeta\n",
      "Processing record 324|Voyvozh\n",
      "Processing record 325|Port Lincoln\n",
      "Processing record 326|Warri\n",
      "Processing record 327|Sur\n",
      "City not found. Skipping...\n",
      "Processing record 328|Berlevåg\n",
      "Processing record 329|Muli\n",
      "Processing record 330|Campbell River\n",
      "Processing record 331|Noyabrsk\n",
      "Processing record 332|Machiques\n",
      "Processing record 333|Itapirapuã\n",
      "Processing record 334|Todos Santos\n",
      "Processing record 335|Lázaro Cárdenas\n",
      "Processing record 336|Adrar\n",
      "Processing record 337|Saint George\n",
      "Processing record 338|Beltinci\n",
      "Processing record 339|Geraldton\n",
      "Processing record 340|Haverfordwest\n",
      "Processing record 341|Aklavik\n",
      "Processing record 342|Carballo\n",
      "Processing record 343|Bonavista\n",
      "Processing record 344|Yeppoon\n",
      "Processing record 345|Kahului\n",
      "Processing record 346|Neyvo-Rudyanka\n",
      "Processing record 347|Lixouri\n",
      "Processing record 348|Kutum\n",
      "Processing record 349|Dengzhou\n",
      "Processing record 350|Banda Aceh\n",
      "Processing record 351|Kungurtug\n",
      "City not found. Skipping...\n",
      "Processing record 352|Santa Isabel\n",
      "Processing record 353|Chokurdakh\n",
      "Processing record 354|Namwala\n",
      "Processing record 355|Noril'sk\n",
      "Processing record 356|Khandyga\n",
      "City not found. Skipping...\n",
      "City not found. Skipping...\n",
      "Processing record 357|Las Palmas\n",
      "Processing record 358|Sakakah\n",
      "Processing record 359|Meridian\n",
      "Processing record 360|Sítio Novo do Tocantins\n",
      "Processing record 361|Samarai\n",
      "Processing record 362|Guelph\n",
      "Processing record 363|North Bend\n",
      "Processing record 364|Maracaibo\n",
      "Processing record 365|Shibetsu\n",
      "Processing record 366|Cherskiy\n",
      "Processing record 367|Yumen\n",
      "Processing record 368|Clyde River\n",
      "Processing record 369|Sioux Lookout\n",
      "City not found. Skipping...\n",
      "Processing record 370|Boyolali\n",
      "Processing record 371|Wenatchee\n",
      "Processing record 372|Casa Nova\n",
      "Processing record 373|Narsaq\n",
      "Processing record 374|Pacific Grove\n",
      "Processing record 375|Carrizal\n",
      "Processing record 376|Jacksonville\n",
      "Processing record 377|Rundu\n",
      "Processing record 378|Canberra\n",
      "Processing record 379|Alofi\n",
      "Processing record 380|Newport\n",
      "Processing record 381|Kendari\n",
      "Processing record 382|Matagami\n",
      "Processing record 383|Guhāgar\n",
      "Processing record 384|Tautira\n",
      "Processing record 385|Andenes\n",
      "Processing record 386|Lokosovo\n",
      "Processing record 387|Iturama\n",
      "Processing record 388|Faya\n",
      "Processing record 389|Grindavik\n",
      "Processing record 390|Starodub\n",
      "Processing record 391|Ketchikan\n",
      "Processing record 392|Verrettes\n",
      "Processing record 393|Camaná\n",
      "Processing record 394|Mpulungu\n",
      "Processing record 395|Hermiston\n",
      "Processing record 396|Caçu\n",
      "Processing record 397|Gīdolē\n",
      "Processing record 398|Mersing\n",
      "Processing record 399|Sittwe\n",
      "Processing record 400|Rome\n",
      "City not found. Skipping...\n",
      "Processing record 401|Paragominas\n",
      "Processing record 402|Matara\n",
      "Processing record 403|Oktyabr'skiy\n",
      "Processing record 404|Naze\n",
      "Processing record 405|Laas\n",
      "Processing record 406|Sibolga\n",
      "Processing record 407|Guasdualito\n",
      "Processing record 408|Quatre Cocos\n",
      "Processing record 409|Henties Bay\n",
      "Processing record 410|Vostok\n",
      "Processing record 411|Bilibino\n",
      "Processing record 412|Umm Kaddadah\n",
      "Processing record 413|Bereda\n",
      "Processing record 414|Huarmey\n",
      "City not found. Skipping...\n",
      "Processing record 415|Fort Nelson\n",
      "Processing record 416|Monrovia\n",
      "Processing record 417|Manicoré\n",
      "Processing record 418|Qasigiannguit\n",
      "City not found. Skipping...\n",
      "Processing record 419|San Severino Marche\n",
      "Processing record 420|Navahrudak\n",
      "Processing record 421|Batagay-Alyta\n",
      "Processing record 422|Hagenow\n",
      "Processing record 423|Nauta\n",
      "Processing record 424|Eslöv\n",
      "Processing record 425|Kuril'sk\n",
      "Processing record 426|Nova Venécia\n",
      "Processing record 427|Naples\n",
      "Processing record 428|Baykit\n",
      "Processing record 429|Price\n",
      "Processing record 430|Tamandaré\n",
      "Processing record 431|Nabire\n",
      "Processing record 432|São João da Barra\n",
      "Processing record 433|Davila\n",
      "Processing record 434|Concordia\n",
      "Processing record 435|El'brus\n",
      "Processing record 436|Xichang\n",
      "Processing record 437|Vila Velha\n",
      "Processing record 438|Shizuishan\n",
      "Processing record 439|Coyhaique\n",
      "Processing record 440|Marabu\n",
      "Processing record 441|Teahupoo\n",
      "City not found. Skipping...\n",
      "Processing record 442|Brae\n",
      "Processing record 443|Uyemskiy\n",
      "Processing record 444|Gizo Government Station\n",
      "Processing record 445|Panabá\n",
      "Processing record 446|Nikolayevsk-on-Amur\n",
      "Processing record 447|Exeter\n",
      "Processing record 448|Torbay\n",
      "Processing record 449|Uyovu\n",
      "Processing record 450|Taltal\n",
      "Processing record 451|Vila do Maio\n",
      "Processing record 452|Marrakesh\n",
      "Processing record 453|Władysławowo\n",
      "Processing record 454|Belaya Gora\n",
      "Processing record 455|Amga\n",
      "Processing record 456|Perth\n",
      "Processing record 457|Huéscar\n",
      "Processing record 458|Posadas\n",
      "Processing record 459|Tabou\n",
      "Processing record 460|Kirakira\n",
      "City not found. Skipping...\n",
      "Processing record 461|Snezhnogorsk\n",
      "Processing record 462|Clearwater\n",
      "City not found. Skipping...\n",
      "Processing record 463|Jericó\n",
      "Processing record 464|Oddur\n",
      "Processing record 465|Mahon\n",
      "Processing record 466|Vredendal\n",
      "Processing record 467|Duvan\n",
      "Processing record 468|Luganville\n",
      "Processing record 469|South Charleston\n",
      "Processing record 470|Jalu\n",
      "Processing record 471|Ta Khmau\n",
      "Processing record 472|Trofors\n",
      "Processing record 473|Borba\n",
      "Processing record 474|Chimbote\n",
      "Processing record 475|São Miguel do Araguaia\n",
      "Processing record 476|Kavaratti\n",
      "Processing record 477|Nuuk\n",
      "Processing record 478|Turbat\n",
      "Processing record 479|Mondlo\n",
      "Processing record 480|Pangoa\n",
      "Processing record 481|Antofagasta\n",
      "Processing record 482|Mount Gambier\n",
      "Processing record 483|Weston\n",
      "Processing record 484|Nouadhibou\n",
      "Processing record 485|Tiznit Province\n",
      "Processing record 486|Palmer\n",
      "Processing record 487|West Lafayette\n"
     ]
    },
    {
     "name": "stdout",
     "output_type": "stream",
     "text": [
      "Processing record 488|Bethel\n",
      "Processing record 489|Ruska Poliana\n",
      "Processing record 490|Nyurba\n",
      "Processing record 491|Urengoy\n",
      "Processing record 492|Mount Isa\n",
      "Processing record 493|Hualmay\n",
      "Processing record 494|Visby\n",
      "Processing record 495|La Tuque\n",
      "City not found. Skipping...\n",
      "Processing record 496|Reykjavik\n",
      "Processing record 497|Novikovo\n",
      "Processing record 498|Pringsewu\n",
      "Processing record 499|Marsh Harbour\n",
      "Processing record 500|Cascais\n",
      "Processing record 501|Zhigansk\n",
      "City not found. Skipping...\n",
      "Processing record 502|San Nicolas\n",
      "Processing record 503|Vrangel'\n",
      "Processing record 504|Millinocket\n",
      "Processing record 505|Comodoro Rivadavia\n",
      "City not found. Skipping...\n",
      "Processing record 506|Hachiōji\n",
      "Processing record 507|Ola\n",
      "Processing record 508|Nacala\n",
      "Processing record 509|Sokoto\n",
      "Processing record 510|Serowe\n",
      "Processing record 511|Ahipara\n",
      "Processing record 512|Fereydūnkenār\n",
      "Processing record 513|Chardara\n",
      "Processing record 514|Weihe\n",
      "Processing record 515|Soldotna\n",
      "Processing record 516|Haukipudas\n",
      "Processing record 517|Egvekinot\n",
      "Processing record 518|Isabela\n",
      "Processing record 519|Trairi\n",
      "Processing record 520|Saryg-Sep\n",
      "Processing record 521|Kiunga\n",
      "City not found. Skipping...\n",
      "Processing record 522|Kousséri\n",
      "Processing record 523|Kupang\n",
      "Processing record 524|Westport\n",
      "City not found. Skipping...\n",
      "Processing record 525|Norman Wells\n",
      "Processing record 526|Nioaque\n",
      "Processing record 527|Bathsheba\n",
      "Processing record 528|Yulara\n",
      "Processing record 529|Séguéla\n",
      "Processing record 530|Omsukchan\n",
      "Processing record 531|Karakol\n",
      "Processing record 532|Rocha\n",
      "Processing record 533|Nueva Esparta\n",
      "Processing record 534|Yangi Marg`ilon\n",
      "Processing record 535|Lagoa\n",
      "Processing record 536|Camacha\n",
      "Processing record 537|Cairns\n",
      "Processing record 538|Chumikan\n",
      "Processing record 539|Jalalpur Jattan\n",
      "City not found. Skipping...\n",
      "Processing record 540|Coahuayana Viejo\n",
      "Processing record 541|Topolovăţu Mare\n",
      "Processing record 542|Acapulco de Juárez\n",
      "Processing record 543|Provideniya\n",
      "Processing record 544|Aloleng\n",
      "Processing record 545|Leninsk\n",
      "Processing record 546|Salihorsk\n",
      "Processing record 547|Aitape\n",
      "City not found. Skipping...\n",
      "Processing record 548|Waipawa\n",
      "Processing record 549|Sandpoint\n",
      "Processing record 550|Nome\n",
      "Processing record 551|Phon\n",
      "Processing record 552|Liverpool\n",
      "Processing record 553|Greytown\n",
      "Processing record 554|Archidona\n",
      "Processing record 555|Santiago\n",
      "City not found. Skipping...\n",
      "Processing record 556|Tessalit\n",
      "Processing record 557|Dicabisagan\n",
      "Processing record 558|Nogliki\n",
      "Processing record 559|Forsytheganj\n",
      "Processing record 560|Karasjok\n",
      "Processing record 561|São Domingos\n",
      "Processing record 562|High Level\n",
      "Processing record 563|Eyl\n",
      "Processing record 564|Bhīmunipatnam\n",
      "Processing record 565|Åmot\n",
      "City not found. Skipping...\n",
      "Processing record 566|Teseney\n",
      "Processing record 567|Canala\n",
      "Processing record 568|Krechevitsy\n",
      "Processing record 569|Meihekou\n",
      "Processing record 570|Lábrea\n",
      "Processing record 571|Aljezur\n",
      "Processing record 572|Codrington\n",
      "Processing record 573|Cockburn Town\n",
      "Processing record 574|Ixtapa\n",
      "Processing record 575|Viseu\n",
      "Processing record 576|Pandan\n",
      "City not found. Skipping...\n",
      "Processing record 577|Ambon City\n",
      "Processing record 578|Manokwari\n",
      "Processing record 579|Muzhi\n",
      "Processing record 580|Baculin\n",
      "-----\n",
      "Date Retrieval complete-----\n"
     ]
    }
   ],
   "source": [
    "#Source: In Class Python API- Day 2 Activity 3, 4, 7, 8, 9\n",
    "\n",
    "#Create variables for looping\n",
    "\n",
    "t_max = []\n",
    "humidity = []\n",
    "clouds = []\n",
    "wind = []\n",
    "lat = []\n",
    "long = []\n",
    "country = []\n",
    "date = []\n",
    "city_name = []\n",
    "count = 1\n",
    "\n",
    "print(\"------\\nBeginning Data Retrieval \\n------\")\n",
    "\n",
    "for city in cities:\n",
    "    try:\n",
    "        response = requests.get(query_url + city).json()\n",
    "        city_name.append(response['name'])\n",
    "        t_max.append(response['main']['temp_max'])\n",
    "        humidity.append(response['main']['humidity'])\n",
    "        clouds.append(response['clouds']['all'])\n",
    "        wind.append(response['wind']['speed'])\n",
    "        lat.append(response['coord']['lat'])\n",
    "        long.append(response['coord']['lon'])\n",
    "        country.append(response['sys']['country'])\n",
    "        date.append(response['dt'])\n",
    "        city_name_processing=response['name']\n",
    "        print(f'Processing record {count}|{city_name_processing}')\n",
    "        count += 1\n",
    "    except KeyError:\n",
    "        print('City not found. Skipping...')\n",
    "    continue\n",
    "print('-----\\nDate Retrieval complete-----')\n",
    "                                     \n",
    "\n",
    "\n",
    "\n"
   ]
  },
  {
   "cell_type": "markdown",
   "metadata": {},
   "source": [
    "### Convert Raw Data to DataFrame\n",
    "* Export the city data into a .csv.\n",
    "* Display the DataFrame"
   ]
  },
  {
   "cell_type": "code",
   "execution_count": 19,
   "metadata": {},
   "outputs": [],
   "source": [
    "#create dataframe for raw data\n",
    "#source in class assignments\n",
    "\n",
    "weather_dictionary = {\n",
    "    'city': city_name,\n",
    "    'lat': lat,\n",
    "    'lng': long,\n",
    "    'max_temp': t_max,\n",
    "    'humidity': humidity,\n",
    "    'cloudiness': clouds,\n",
    "    'wind_speed': wind,\n",
    "    'country': country,\n",
    "    'date': date\n",
    "}   \n",
    "\n",
    "\n",
    "weather_df = pd.DataFrame(weather_dictionary)\n",
    "\n",
    "#export to CSV\n",
    "weather_df.to_csv('cityweather.csv', encoding = 'utf-8', index = False)\n",
    "\n"
   ]
  },
  {
   "cell_type": "code",
   "execution_count": 20,
   "metadata": {},
   "outputs": [
    {
     "data": {
      "text/plain": [
       "city          580\n",
       "lat           580\n",
       "lng           580\n",
       "max_temp      580\n",
       "humidity      580\n",
       "cloudiness    580\n",
       "wind_speed    580\n",
       "country       580\n",
       "date          580\n",
       "dtype: int64"
      ]
     },
     "execution_count": 20,
     "metadata": {},
     "output_type": "execute_result"
    }
   ],
   "source": [
    "# Ensure count is over 500\n",
    "weather_df.count()"
   ]
  },
  {
   "cell_type": "code",
   "execution_count": 21,
   "metadata": {},
   "outputs": [
    {
     "data": {
      "text/html": [
       "<div>\n",
       "<style scoped>\n",
       "    .dataframe tbody tr th:only-of-type {\n",
       "        vertical-align: middle;\n",
       "    }\n",
       "\n",
       "    .dataframe tbody tr th {\n",
       "        vertical-align: top;\n",
       "    }\n",
       "\n",
       "    .dataframe thead th {\n",
       "        text-align: right;\n",
       "    }\n",
       "</style>\n",
       "<table border=\"1\" class=\"dataframe\">\n",
       "  <thead>\n",
       "    <tr style=\"text-align: right;\">\n",
       "      <th></th>\n",
       "      <th>city</th>\n",
       "      <th>lat</th>\n",
       "      <th>lng</th>\n",
       "      <th>max_temp</th>\n",
       "      <th>humidity</th>\n",
       "      <th>cloudiness</th>\n",
       "      <th>wind_speed</th>\n",
       "      <th>country</th>\n",
       "      <th>date</th>\n",
       "    </tr>\n",
       "  </thead>\n",
       "  <tbody>\n",
       "    <tr>\n",
       "      <th>0</th>\n",
       "      <td>Cape Town</td>\n",
       "      <td>-33.9258</td>\n",
       "      <td>18.4232</td>\n",
       "      <td>291.08</td>\n",
       "      <td>85</td>\n",
       "      <td>0</td>\n",
       "      <td>0.45</td>\n",
       "      <td>ZA</td>\n",
       "      <td>1633988204</td>\n",
       "    </tr>\n",
       "    <tr>\n",
       "      <th>1</th>\n",
       "      <td>Dikson</td>\n",
       "      <td>73.5069</td>\n",
       "      <td>80.5464</td>\n",
       "      <td>272.48</td>\n",
       "      <td>67</td>\n",
       "      <td>100</td>\n",
       "      <td>6.38</td>\n",
       "      <td>RU</td>\n",
       "      <td>1633988455</td>\n",
       "    </tr>\n",
       "    <tr>\n",
       "      <th>2</th>\n",
       "      <td>Vardø</td>\n",
       "      <td>70.3705</td>\n",
       "      <td>31.1107</td>\n",
       "      <td>279.26</td>\n",
       "      <td>96</td>\n",
       "      <td>100</td>\n",
       "      <td>2.93</td>\n",
       "      <td>NO</td>\n",
       "      <td>1633988455</td>\n",
       "    </tr>\n",
       "    <tr>\n",
       "      <th>3</th>\n",
       "      <td>Albany</td>\n",
       "      <td>42.6001</td>\n",
       "      <td>-73.9662</td>\n",
       "      <td>294.38</td>\n",
       "      <td>77</td>\n",
       "      <td>25</td>\n",
       "      <td>0.79</td>\n",
       "      <td>US</td>\n",
       "      <td>1633988394</td>\n",
       "    </tr>\n",
       "    <tr>\n",
       "      <th>4</th>\n",
       "      <td>Hobart</td>\n",
       "      <td>-42.8794</td>\n",
       "      <td>147.3294</td>\n",
       "      <td>282.66</td>\n",
       "      <td>81</td>\n",
       "      <td>40</td>\n",
       "      <td>0.45</td>\n",
       "      <td>AU</td>\n",
       "      <td>1633988456</td>\n",
       "    </tr>\n",
       "    <tr>\n",
       "      <th>5</th>\n",
       "      <td>Gaya</td>\n",
       "      <td>24.7833</td>\n",
       "      <td>85.0000</td>\n",
       "      <td>298.10</td>\n",
       "      <td>94</td>\n",
       "      <td>2</td>\n",
       "      <td>0.00</td>\n",
       "      <td>IN</td>\n",
       "      <td>1633988323</td>\n",
       "    </tr>\n",
       "    <tr>\n",
       "      <th>6</th>\n",
       "      <td>Mataura</td>\n",
       "      <td>-46.1927</td>\n",
       "      <td>168.8643</td>\n",
       "      <td>279.16</td>\n",
       "      <td>87</td>\n",
       "      <td>99</td>\n",
       "      <td>3.93</td>\n",
       "      <td>NZ</td>\n",
       "      <td>1633988456</td>\n",
       "    </tr>\n",
       "    <tr>\n",
       "      <th>7</th>\n",
       "      <td>Hermanus</td>\n",
       "      <td>-34.4187</td>\n",
       "      <td>19.2345</td>\n",
       "      <td>289.21</td>\n",
       "      <td>80</td>\n",
       "      <td>100</td>\n",
       "      <td>0.93</td>\n",
       "      <td>ZA</td>\n",
       "      <td>1633988457</td>\n",
       "    </tr>\n",
       "    <tr>\n",
       "      <th>8</th>\n",
       "      <td>Hilo</td>\n",
       "      <td>19.7297</td>\n",
       "      <td>-155.0900</td>\n",
       "      <td>299.40</td>\n",
       "      <td>88</td>\n",
       "      <td>90</td>\n",
       "      <td>3.60</td>\n",
       "      <td>US</td>\n",
       "      <td>1633988457</td>\n",
       "    </tr>\n",
       "    <tr>\n",
       "      <th>9</th>\n",
       "      <td>Rikitea</td>\n",
       "      <td>-23.1203</td>\n",
       "      <td>-134.9692</td>\n",
       "      <td>296.61</td>\n",
       "      <td>77</td>\n",
       "      <td>90</td>\n",
       "      <td>5.92</td>\n",
       "      <td>PF</td>\n",
       "      <td>1633988457</td>\n",
       "    </tr>\n",
       "    <tr>\n",
       "      <th>10</th>\n",
       "      <td>Road Town</td>\n",
       "      <td>18.4167</td>\n",
       "      <td>-64.6167</td>\n",
       "      <td>301.59</td>\n",
       "      <td>83</td>\n",
       "      <td>40</td>\n",
       "      <td>5.14</td>\n",
       "      <td>VG</td>\n",
       "      <td>1633988288</td>\n",
       "    </tr>\n",
       "    <tr>\n",
       "      <th>11</th>\n",
       "      <td>Inhambane</td>\n",
       "      <td>-23.8650</td>\n",
       "      <td>35.3833</td>\n",
       "      <td>292.76</td>\n",
       "      <td>64</td>\n",
       "      <td>84</td>\n",
       "      <td>3.09</td>\n",
       "      <td>MZ</td>\n",
       "      <td>1633988458</td>\n",
       "    </tr>\n",
       "    <tr>\n",
       "      <th>12</th>\n",
       "      <td>Kapaa</td>\n",
       "      <td>22.0752</td>\n",
       "      <td>-159.3190</td>\n",
       "      <td>301.14</td>\n",
       "      <td>72</td>\n",
       "      <td>20</td>\n",
       "      <td>3.13</td>\n",
       "      <td>US</td>\n",
       "      <td>1633988458</td>\n",
       "    </tr>\n",
       "    <tr>\n",
       "      <th>13</th>\n",
       "      <td>Constitución</td>\n",
       "      <td>-35.3333</td>\n",
       "      <td>-72.4167</td>\n",
       "      <td>287.10</td>\n",
       "      <td>78</td>\n",
       "      <td>10</td>\n",
       "      <td>3.60</td>\n",
       "      <td>CL</td>\n",
       "      <td>1633988458</td>\n",
       "    </tr>\n",
       "    <tr>\n",
       "      <th>14</th>\n",
       "      <td>Ushuaia</td>\n",
       "      <td>-54.8000</td>\n",
       "      <td>-68.3000</td>\n",
       "      <td>283.96</td>\n",
       "      <td>46</td>\n",
       "      <td>40</td>\n",
       "      <td>7.72</td>\n",
       "      <td>AR</td>\n",
       "      <td>1633988459</td>\n",
       "    </tr>\n",
       "  </tbody>\n",
       "</table>\n",
       "</div>"
      ],
      "text/plain": [
       "            city      lat       lng  max_temp  humidity  cloudiness  \\\n",
       "0      Cape Town -33.9258   18.4232    291.08        85           0   \n",
       "1         Dikson  73.5069   80.5464    272.48        67         100   \n",
       "2          Vardø  70.3705   31.1107    279.26        96         100   \n",
       "3         Albany  42.6001  -73.9662    294.38        77          25   \n",
       "4         Hobart -42.8794  147.3294    282.66        81          40   \n",
       "5           Gaya  24.7833   85.0000    298.10        94           2   \n",
       "6        Mataura -46.1927  168.8643    279.16        87          99   \n",
       "7       Hermanus -34.4187   19.2345    289.21        80         100   \n",
       "8           Hilo  19.7297 -155.0900    299.40        88          90   \n",
       "9        Rikitea -23.1203 -134.9692    296.61        77          90   \n",
       "10     Road Town  18.4167  -64.6167    301.59        83          40   \n",
       "11     Inhambane -23.8650   35.3833    292.76        64          84   \n",
       "12         Kapaa  22.0752 -159.3190    301.14        72          20   \n",
       "13  Constitución -35.3333  -72.4167    287.10        78          10   \n",
       "14       Ushuaia -54.8000  -68.3000    283.96        46          40   \n",
       "\n",
       "    wind_speed country        date  \n",
       "0         0.45      ZA  1633988204  \n",
       "1         6.38      RU  1633988455  \n",
       "2         2.93      NO  1633988455  \n",
       "3         0.79      US  1633988394  \n",
       "4         0.45      AU  1633988456  \n",
       "5         0.00      IN  1633988323  \n",
       "6         3.93      NZ  1633988456  \n",
       "7         0.93      ZA  1633988457  \n",
       "8         3.60      US  1633988457  \n",
       "9         5.92      PF  1633988457  \n",
       "10        5.14      VG  1633988288  \n",
       "11        3.09      MZ  1633988458  \n",
       "12        3.13      US  1633988458  \n",
       "13        3.60      CL  1633988458  \n",
       "14        7.72      AR  1633988459  "
      ]
     },
     "execution_count": 21,
     "metadata": {},
     "output_type": "execute_result"
    }
   ],
   "source": [
    "#display dataframe\n",
    "weather_df.head(15)"
   ]
  },
  {
   "cell_type": "code",
   "execution_count": 24,
   "metadata": {},
   "outputs": [
    {
     "data": {
      "text/html": [
       "<div>\n",
       "<style scoped>\n",
       "    .dataframe tbody tr th:only-of-type {\n",
       "        vertical-align: middle;\n",
       "    }\n",
       "\n",
       "    .dataframe tbody tr th {\n",
       "        vertical-align: top;\n",
       "    }\n",
       "\n",
       "    .dataframe thead th {\n",
       "        text-align: right;\n",
       "    }\n",
       "</style>\n",
       "<table border=\"1\" class=\"dataframe\">\n",
       "  <thead>\n",
       "    <tr style=\"text-align: right;\">\n",
       "      <th></th>\n",
       "      <th>lat</th>\n",
       "      <th>lng</th>\n",
       "      <th>max_temp</th>\n",
       "      <th>humidity</th>\n",
       "      <th>cloudiness</th>\n",
       "      <th>wind_speed</th>\n",
       "      <th>date</th>\n",
       "    </tr>\n",
       "  </thead>\n",
       "  <tbody>\n",
       "    <tr>\n",
       "      <th>count</th>\n",
       "      <td>580.000000</td>\n",
       "      <td>580.000000</td>\n",
       "      <td>580.000000</td>\n",
       "      <td>580.000000</td>\n",
       "      <td>580.000000</td>\n",
       "      <td>580.000000</td>\n",
       "      <td>5.800000e+02</td>\n",
       "    </tr>\n",
       "    <tr>\n",
       "      <th>mean</th>\n",
       "      <td>19.384834</td>\n",
       "      <td>18.567281</td>\n",
       "      <td>289.636121</td>\n",
       "      <td>72.793103</td>\n",
       "      <td>61.334483</td>\n",
       "      <td>3.551017</td>\n",
       "      <td>1.633989e+09</td>\n",
       "    </tr>\n",
       "    <tr>\n",
       "      <th>std</th>\n",
       "      <td>33.823381</td>\n",
       "      <td>92.041334</td>\n",
       "      <td>10.616528</td>\n",
       "      <td>19.326982</td>\n",
       "      <td>37.768569</td>\n",
       "      <td>2.653490</td>\n",
       "      <td>6.851250e+01</td>\n",
       "    </tr>\n",
       "    <tr>\n",
       "      <th>min</th>\n",
       "      <td>-54.800000</td>\n",
       "      <td>-179.166700</td>\n",
       "      <td>253.900000</td>\n",
       "      <td>6.000000</td>\n",
       "      <td>0.000000</td>\n",
       "      <td>0.000000</td>\n",
       "      <td>1.633988e+09</td>\n",
       "    </tr>\n",
       "    <tr>\n",
       "      <th>25%</th>\n",
       "      <td>-8.803375</td>\n",
       "      <td>-64.823575</td>\n",
       "      <td>281.452500</td>\n",
       "      <td>64.000000</td>\n",
       "      <td>22.000000</td>\n",
       "      <td>1.565000</td>\n",
       "      <td>1.633988e+09</td>\n",
       "    </tr>\n",
       "    <tr>\n",
       "      <th>50%</th>\n",
       "      <td>21.107150</td>\n",
       "      <td>20.679200</td>\n",
       "      <td>291.985000</td>\n",
       "      <td>77.000000</td>\n",
       "      <td>75.000000</td>\n",
       "      <td>2.765000</td>\n",
       "      <td>1.633989e+09</td>\n",
       "    </tr>\n",
       "    <tr>\n",
       "      <th>75%</th>\n",
       "      <td>48.767150</td>\n",
       "      <td>104.117875</td>\n",
       "      <td>298.422500</td>\n",
       "      <td>87.000000</td>\n",
       "      <td>98.000000</td>\n",
       "      <td>5.030000</td>\n",
       "      <td>1.633989e+09</td>\n",
       "    </tr>\n",
       "    <tr>\n",
       "      <th>max</th>\n",
       "      <td>78.218600</td>\n",
       "      <td>179.316700</td>\n",
       "      <td>307.880000</td>\n",
       "      <td>100.000000</td>\n",
       "      <td>100.000000</td>\n",
       "      <td>16.460000</td>\n",
       "      <td>1.633989e+09</td>\n",
       "    </tr>\n",
       "  </tbody>\n",
       "</table>\n",
       "</div>"
      ],
      "text/plain": [
       "              lat         lng    max_temp    humidity  cloudiness  wind_speed  \\\n",
       "count  580.000000  580.000000  580.000000  580.000000  580.000000  580.000000   \n",
       "mean    19.384834   18.567281  289.636121   72.793103   61.334483    3.551017   \n",
       "std     33.823381   92.041334   10.616528   19.326982   37.768569    2.653490   \n",
       "min    -54.800000 -179.166700  253.900000    6.000000    0.000000    0.000000   \n",
       "25%     -8.803375  -64.823575  281.452500   64.000000   22.000000    1.565000   \n",
       "50%     21.107150   20.679200  291.985000   77.000000   75.000000    2.765000   \n",
       "75%     48.767150  104.117875  298.422500   87.000000   98.000000    5.030000   \n",
       "max     78.218600  179.316700  307.880000  100.000000  100.000000   16.460000   \n",
       "\n",
       "               date  \n",
       "count  5.800000e+02  \n",
       "mean   1.633989e+09  \n",
       "std    6.851250e+01  \n",
       "min    1.633988e+09  \n",
       "25%    1.633988e+09  \n",
       "50%    1.633989e+09  \n",
       "75%    1.633989e+09  \n",
       "max    1.633989e+09  "
      ]
     },
     "execution_count": 24,
     "metadata": {},
     "output_type": "execute_result"
    }
   ],
   "source": [
    "weather_df.describe()"
   ]
  },
  {
   "cell_type": "code",
   "execution_count": 22,
   "metadata": {},
   "outputs": [
    {
     "name": "stdout",
     "output_type": "stream",
     "text": [
      "Summary Statistics verify no humidity values greater than 100.\n"
     ]
    }
   ],
   "source": [
    "print('Summary Statistics verify no humidity values greater than 100.')\n"
   ]
  },
  {
   "cell_type": "markdown",
   "metadata": {},
   "source": [
    "## Plotting the Data\n",
    "* Use proper labeling of the plots using plot titles (including date of analysis) and axes labels.\n",
    "* Save the plotted figures as .pngs."
   ]
  },
  {
   "cell_type": "markdown",
   "metadata": {},
   "source": [
    "## Latitude vs. Temperature Plot"
   ]
  },
  {
   "cell_type": "code",
   "execution_count": 30,
   "metadata": {},
   "outputs": [
    {
     "data": {
      "image/png": "[encoded data removed]",
      "text/plain": [
       "<Figure size 432x288 with 1 Axes>"
      ]
     },
     "metadata": {
      "needs_background": "light"
     },
     "output_type": "display_data"
    }
   ],
   "source": [
    "\n",
    "\n",
    "\n",
    "plt.scatter(weather_df[\"lat\"], weather_df[\"max_temp\"], marker=\"o\", c=\"darkblue\")\n",
    "\n",
    "# Incorporate the other graph properties\n",
    "plt.title(\"Latitude vs. Temperature in World Cities\")\n",
    "plt.ylabel(\"Temperature (Kelvin)\")\n",
    "plt.xlabel(\"Latitude\")\n",
    "plt.grid(True)\n",
    "\n",
    "# Save the figure\n",
    "plt.savefig(\"LatitudeTemperature.png\")\n",
    "\n",
    "# Show plot\n",
    "plt.show()"
   ]
  },
  {
   "cell_type": "markdown",
   "metadata": {},
   "source": [
    "## Latitude vs. Humidity Plot"
   ]
  },
  {
   "cell_type": "code",
   "execution_count": 31,
   "metadata": {},
   "outputs": [
    {
     "data": {
      "image/png": "[encoded data removed]",
      "text/plain": [
       "<Figure size 432x288 with 1 Axes>"
      ]
     },
     "metadata": {
      "needs_background": "light"
     },
     "output_type": "display_data"
    }
   ],
   "source": [
    "plt.scatter(weather_df[\"lat\"], weather_df[\"humidity\"], marker=\"o\", c='darkblue')\n",
    "\n",
    "# Incorporate the other graph properties\n",
    "plt.title(\"Latitude vs. Humidity in World Cities\")\n",
    "plt.ylabel(\"Humidity (%)\")\n",
    "plt.xlabel(\"Latitude\")\n",
    "plt.grid(True)\n",
    "\n",
    "# Save the figure\n",
    "plt.savefig(\"LatitudeHumidity.png\")\n",
    "\n",
    "# Show plot\n",
    "plt.show()"
   ]
  },
  {
   "cell_type": "markdown",
   "metadata": {},
   "source": [
    "## Latitude vs. Cloudiness Plot"
   ]
  },
  {
   "cell_type": "code",
   "execution_count": 32,
   "metadata": {},
   "outputs": [
    {
     "data": {
      "image/png": "[encoded data removed]",
      "text/plain": [
       "<Figure size 432x288 with 1 Axes>"
      ]
     },
     "metadata": {
      "needs_background": "light"
     },
     "output_type": "display_data"
    }
   ],
   "source": [
    "plt.scatter(weather_df[\"lat\"], weather_df[\"cloudiness\"], marker=\"o\", c='darkblue')\n",
    "\n",
    "# Incorporate the other graph properties\n",
    "plt.title(\"Latitude vs. Cloudiness in World Cities\")\n",
    "plt.ylabel(\"Cloudiness (%)\")\n",
    "plt.xlabel(\"Latitude\")\n",
    "plt.grid(True)\n",
    "\n",
    "# Save the figure\n",
    "plt.savefig(\"LatitudeCloudiness.png\")\n",
    "\n",
    "# Show plot\n",
    "plt.show()"
   ]
  },
  {
   "cell_type": "markdown",
   "metadata": {},
   "source": [
    "## Latitude vs. Wind Speed Plot"
   ]
  },
  {
   "cell_type": "code",
   "execution_count": 33,
   "metadata": {},
   "outputs": [
    {
     "data": {
      "image/png": "[encoded data removed]",
      "text/plain": [
       "<Figure size 432x288 with 1 Axes>"
      ]
     },
     "metadata": {
      "needs_background": "light"
     },
     "output_type": "display_data"
    }
   ],
   "source": [
    "plt.scatter(weather_df[\"lat\"], weather_df[\"wind_speed\"], marker=\"o\", c='darkblue')\n",
    "\n",
    "# Incorporate the other graph properties\n",
    "plt.title(\"Latitude vs. Windspeed in World Cities\")\n",
    "plt.ylabel(\"Windspeed\")\n",
    "plt.xlabel(\"Latitude\")\n",
    "plt.grid(True)\n",
    "\n",
    "# Save the figure\n",
    "plt.savefig(\"LatitudeWindspeed.png\")\n",
    "\n",
    "# Show plot\n",
    "plt.show()"
   ]
  },
  {
   "cell_type": "markdown",
   "metadata": {},
   "source": [
    "## Linear Regression"
   ]
  },
  {
   "cell_type": "markdown",
   "metadata": {},
   "source": [
    "####  Northern Hemisphere - Max Temp vs. Latitude Linear Regression"
   ]
  },
  {
   "cell_type": "code",
   "execution_count": 41,
   "metadata": {},
   "outputs": [
    {
     "data": {
      "text/html": [
       "<div>\n",
       "<style scoped>\n",
       "    .dataframe tbody tr th:only-of-type {\n",
       "        vertical-align: middle;\n",
       "    }\n",
       "\n",
       "    .dataframe tbody tr th {\n",
       "        vertical-align: top;\n",
       "    }\n",
       "\n",
       "    .dataframe thead th {\n",
       "        text-align: right;\n",
       "    }\n",
       "</style>\n",
       "<table border=\"1\" class=\"dataframe\">\n",
       "  <thead>\n",
       "    <tr style=\"text-align: right;\">\n",
       "      <th></th>\n",
       "      <th>city</th>\n",
       "      <th>lat</th>\n",
       "      <th>lng</th>\n",
       "      <th>max_temp</th>\n",
       "      <th>humidity</th>\n",
       "      <th>cloudiness</th>\n",
       "      <th>wind_speed</th>\n",
       "      <th>country</th>\n",
       "      <th>date</th>\n",
       "    </tr>\n",
       "  </thead>\n",
       "  <tbody>\n",
       "    <tr>\n",
       "      <th>1</th>\n",
       "      <td>Dikson</td>\n",
       "      <td>73.5069</td>\n",
       "      <td>80.5464</td>\n",
       "      <td>272.48</td>\n",
       "      <td>67</td>\n",
       "      <td>100</td>\n",
       "      <td>6.38</td>\n",
       "      <td>RU</td>\n",
       "      <td>1633988455</td>\n",
       "    </tr>\n",
       "    <tr>\n",
       "      <th>2</th>\n",
       "      <td>Vardø</td>\n",
       "      <td>70.3705</td>\n",
       "      <td>31.1107</td>\n",
       "      <td>279.26</td>\n",
       "      <td>96</td>\n",
       "      <td>100</td>\n",
       "      <td>2.93</td>\n",
       "      <td>NO</td>\n",
       "      <td>1633988455</td>\n",
       "    </tr>\n",
       "    <tr>\n",
       "      <th>3</th>\n",
       "      <td>Albany</td>\n",
       "      <td>42.6001</td>\n",
       "      <td>-73.9662</td>\n",
       "      <td>294.38</td>\n",
       "      <td>77</td>\n",
       "      <td>25</td>\n",
       "      <td>0.79</td>\n",
       "      <td>US</td>\n",
       "      <td>1633988394</td>\n",
       "    </tr>\n",
       "    <tr>\n",
       "      <th>5</th>\n",
       "      <td>Gaya</td>\n",
       "      <td>24.7833</td>\n",
       "      <td>85.0000</td>\n",
       "      <td>298.10</td>\n",
       "      <td>94</td>\n",
       "      <td>2</td>\n",
       "      <td>0.00</td>\n",
       "      <td>IN</td>\n",
       "      <td>1633988323</td>\n",
       "    </tr>\n",
       "    <tr>\n",
       "      <th>8</th>\n",
       "      <td>Hilo</td>\n",
       "      <td>19.7297</td>\n",
       "      <td>-155.0900</td>\n",
       "      <td>299.40</td>\n",
       "      <td>88</td>\n",
       "      <td>90</td>\n",
       "      <td>3.60</td>\n",
       "      <td>US</td>\n",
       "      <td>1633988457</td>\n",
       "    </tr>\n",
       "    <tr>\n",
       "      <th>...</th>\n",
       "      <td>...</td>\n",
       "      <td>...</td>\n",
       "      <td>...</td>\n",
       "      <td>...</td>\n",
       "      <td>...</td>\n",
       "      <td>...</td>\n",
       "      <td>...</td>\n",
       "      <td>...</td>\n",
       "      <td>...</td>\n",
       "    </tr>\n",
       "    <tr>\n",
       "      <th>573</th>\n",
       "      <td>Ixtapa</td>\n",
       "      <td>20.7000</td>\n",
       "      <td>-105.2000</td>\n",
       "      <td>304.39</td>\n",
       "      <td>79</td>\n",
       "      <td>97</td>\n",
       "      <td>1.34</td>\n",
       "      <td>MX</td>\n",
       "      <td>1633988631</td>\n",
       "    </tr>\n",
       "    <tr>\n",
       "      <th>574</th>\n",
       "      <td>Viseu</td>\n",
       "      <td>40.6610</td>\n",
       "      <td>-7.9097</td>\n",
       "      <td>290.87</td>\n",
       "      <td>54</td>\n",
       "      <td>61</td>\n",
       "      <td>2.51</td>\n",
       "      <td>PT</td>\n",
       "      <td>1633988644</td>\n",
       "    </tr>\n",
       "    <tr>\n",
       "      <th>575</th>\n",
       "      <td>Pandan</td>\n",
       "      <td>14.0453</td>\n",
       "      <td>124.1694</td>\n",
       "      <td>300.52</td>\n",
       "      <td>83</td>\n",
       "      <td>100</td>\n",
       "      <td>7.58</td>\n",
       "      <td>PH</td>\n",
       "      <td>1633988644</td>\n",
       "    </tr>\n",
       "    <tr>\n",
       "      <th>578</th>\n",
       "      <td>Muzhi</td>\n",
       "      <td>65.3667</td>\n",
       "      <td>64.6667</td>\n",
       "      <td>269.15</td>\n",
       "      <td>97</td>\n",
       "      <td>73</td>\n",
       "      <td>1.58</td>\n",
       "      <td>RU</td>\n",
       "      <td>1633988645</td>\n",
       "    </tr>\n",
       "    <tr>\n",
       "      <th>579</th>\n",
       "      <td>Baculin</td>\n",
       "      <td>7.4525</td>\n",
       "      <td>126.5842</td>\n",
       "      <td>300.05</td>\n",
       "      <td>74</td>\n",
       "      <td>100</td>\n",
       "      <td>2.82</td>\n",
       "      <td>PH</td>\n",
       "      <td>1633988645</td>\n",
       "    </tr>\n",
       "  </tbody>\n",
       "</table>\n",
       "<p>387 rows × 9 columns</p>\n",
       "</div>"
      ],
      "text/plain": [
       "        city      lat       lng  max_temp  humidity  cloudiness  wind_speed  \\\n",
       "1     Dikson  73.5069   80.5464    272.48        67         100        6.38   \n",
       "2      Vardø  70.3705   31.1107    279.26        96         100        2.93   \n",
       "3     Albany  42.6001  -73.9662    294.38        77          25        0.79   \n",
       "5       Gaya  24.7833   85.0000    298.10        94           2        0.00   \n",
       "8       Hilo  19.7297 -155.0900    299.40        88          90        3.60   \n",
       "..       ...      ...       ...       ...       ...         ...         ...   \n",
       "573   Ixtapa  20.7000 -105.2000    304.39        79          97        1.34   \n",
       "574    Viseu  40.6610   -7.9097    290.87        54          61        2.51   \n",
       "575   Pandan  14.0453  124.1694    300.52        83         100        7.58   \n",
       "578    Muzhi  65.3667   64.6667    269.15        97          73        1.58   \n",
       "579  Baculin   7.4525  126.5842    300.05        74         100        2.82   \n",
       "\n",
       "    country        date  \n",
       "1        RU  1633988455  \n",
       "2        NO  1633988455  \n",
       "3        US  1633988394  \n",
       "5        IN  1633988323  \n",
       "8        US  1633988457  \n",
       "..      ...         ...  \n",
       "573      MX  1633988631  \n",
       "574      PT  1633988644  \n",
       "575      PH  1633988644  \n",
       "578      RU  1633988645  \n",
       "579      PH  1633988645  \n",
       "\n",
       "[387 rows x 9 columns]"
      ]
     },
     "execution_count": 41,
     "metadata": {},
     "output_type": "execute_result"
    }
   ],
   "source": [
    "# Create dataFrame for Nothern Hemisphere Data\n",
    "n_hem = weather_df[weather_df['lat'] > 0]\n",
    "n_hem \n",
    "\n",
    "\n"
   ]
  },
  {
   "cell_type": "code",
   "execution_count": 51,
   "metadata": {},
   "outputs": [
    {
     "data": {
      "text/plain": [
       "<AxesSubplot:xlabel='lat', ylabel='max_temp'>"
      ]
     },
     "execution_count": 51,
     "metadata": {},
     "output_type": "execute_result"
    },
    {
     "data": {
      "image/png": "[encoded data removed]",
      "text/plain": [
       "<Figure size 432x288 with 1 Axes>"
      ]
     },
     "metadata": {
      "needs_background": "light"
     },
     "output_type": "display_data"
    }
   ],
   "source": [
    "#create scatter plot\n",
    "n_hem.plot(kind=\"scatter\", x='lat', y='max_temp')"
   ]
  },
  {
   "cell_type": "code",
   "execution_count": 86,
   "metadata": {},
   "outputs": [
    {
     "name": "stdout",
     "output_type": "stream",
     "text": [
      "1      271.310160\n",
      "2      272.821399\n",
      "3      286.202255\n",
      "5      294.787081\n",
      "8      297.222102\n",
      "          ...    \n",
      "573    296.754573\n",
      "574    287.136589\n",
      "575    299.961066\n",
      "578    275.232424\n",
      "579    303.137733\n",
      "Name: lat, Length: 387, dtype: float64\n"
     ]
    }
   ],
   "source": [
    "#find linear regression on temperature vs. latitude\n",
    "#source: In class examples\n",
    "from scipy import stats\n",
    "\n",
    "    \n",
    "(slope, intercept, rvalue, pvalue, stderr) = stats.linregress(n_hem['lat'], n_hem['max_temp'])\n",
    "\n",
    " #Get regression values\n",
    "regress_values = n_hem['lat'] * slope + intercept\n",
    "print(regress_values)\n",
    "\n",
    " "
   ]
  },
  {
   "cell_type": "code",
   "execution_count": 80,
   "metadata": {},
   "outputs": [
    {
     "name": "stdout",
     "output_type": "stream",
     "text": [
      "y = -0.48x +306.73\n"
     ]
    }
   ],
   "source": [
    "# Create line equation string\n",
    "line_eq = \"y = \" + str(round(slope,2)) + \"x +\" + str(round(intercept,2))\n",
    "print(line_eq)"
   ]
  },
  {
   "cell_type": "code",
   "execution_count": 88,
   "metadata": {},
   "outputs": [
    {
     "name": "stdout",
     "output_type": "stream",
     "text": [
      "The r-value is: 0.7303057999186328\n"
     ]
    },
    {
     "data": {
      "image/png": "[encoded data removed]",
      "text/plain": [
       "<Figure size 432x288 with 1 Axes>"
      ]
     },
     "metadata": {
      "needs_background": "light"
     },
     "output_type": "display_data"
    },
    {
     "data": {
      "text/plain": [
       "<Figure size 432x288 with 0 Axes>"
      ]
     },
     "metadata": {},
     "output_type": "display_data"
    }
   ],
   "source": [
    "# Create Plot\n",
    "plt.scatter(n_hem['lat'],n_hem['max_temp'])\n",
    "plt.plot(n_hem['lat'],regress_values,\"r-\")\n",
    "\n",
    "# Label plot and annotate the line equation\n",
    "plt.xlabel('Latitude')\n",
    "plt.ylabel('Temperature (Kelvin)')\n",
    "plt.annotate(line_eq,(0,260),fontsize=15,color=\"red\")\n",
    "\n",
    "# Print r value\n",
    "print(f\"The r-value is: {rvalue**2}\")\n",
    "\n",
    "# Show plot\n",
    "plt.show()\n",
    "\n",
    "# Save the figure\n",
    "plt.savefig(\"NHLinReg.png\")\n"
   ]
  },
  {
   "cell_type": "markdown",
   "metadata": {},
   "source": [
    "####  Southern Hemisphere - Max Temp vs. Latitude Linear Regression"
   ]
  },
  {
   "cell_type": "code",
   "execution_count": 43,
   "metadata": {},
   "outputs": [
    {
     "data": {
      "text/html": [
       "<div>\n",
       "<style scoped>\n",
       "    .dataframe tbody tr th:only-of-type {\n",
       "        vertical-align: middle;\n",
       "    }\n",
       "\n",
       "    .dataframe tbody tr th {\n",
       "        vertical-align: top;\n",
       "    }\n",
       "\n",
       "    .dataframe thead th {\n",
       "        text-align: right;\n",
       "    }\n",
       "</style>\n",
       "<table border=\"1\" class=\"dataframe\">\n",
       "  <thead>\n",
       "    <tr style=\"text-align: right;\">\n",
       "      <th></th>\n",
       "      <th>city</th>\n",
       "      <th>lat</th>\n",
       "      <th>lng</th>\n",
       "      <th>max_temp</th>\n",
       "      <th>humidity</th>\n",
       "      <th>cloudiness</th>\n",
       "      <th>wind_speed</th>\n",
       "      <th>country</th>\n",
       "      <th>date</th>\n",
       "    </tr>\n",
       "  </thead>\n",
       "  <tbody>\n",
       "    <tr>\n",
       "      <th>0</th>\n",
       "      <td>Cape Town</td>\n",
       "      <td>-33.9258</td>\n",
       "      <td>18.4232</td>\n",
       "      <td>291.08</td>\n",
       "      <td>85</td>\n",
       "      <td>0</td>\n",
       "      <td>0.45</td>\n",
       "      <td>ZA</td>\n",
       "      <td>1633988204</td>\n",
       "    </tr>\n",
       "    <tr>\n",
       "      <th>4</th>\n",
       "      <td>Hobart</td>\n",
       "      <td>-42.8794</td>\n",
       "      <td>147.3294</td>\n",
       "      <td>282.66</td>\n",
       "      <td>81</td>\n",
       "      <td>40</td>\n",
       "      <td>0.45</td>\n",
       "      <td>AU</td>\n",
       "      <td>1633988456</td>\n",
       "    </tr>\n",
       "    <tr>\n",
       "      <th>6</th>\n",
       "      <td>Mataura</td>\n",
       "      <td>-46.1927</td>\n",
       "      <td>168.8643</td>\n",
       "      <td>279.16</td>\n",
       "      <td>87</td>\n",
       "      <td>99</td>\n",
       "      <td>3.93</td>\n",
       "      <td>NZ</td>\n",
       "      <td>1633988456</td>\n",
       "    </tr>\n",
       "    <tr>\n",
       "      <th>7</th>\n",
       "      <td>Hermanus</td>\n",
       "      <td>-34.4187</td>\n",
       "      <td>19.2345</td>\n",
       "      <td>289.21</td>\n",
       "      <td>80</td>\n",
       "      <td>100</td>\n",
       "      <td>0.93</td>\n",
       "      <td>ZA</td>\n",
       "      <td>1633988457</td>\n",
       "    </tr>\n",
       "    <tr>\n",
       "      <th>9</th>\n",
       "      <td>Rikitea</td>\n",
       "      <td>-23.1203</td>\n",
       "      <td>-134.9692</td>\n",
       "      <td>296.61</td>\n",
       "      <td>77</td>\n",
       "      <td>90</td>\n",
       "      <td>5.92</td>\n",
       "      <td>PF</td>\n",
       "      <td>1633988457</td>\n",
       "    </tr>\n",
       "    <tr>\n",
       "      <th>...</th>\n",
       "      <td>...</td>\n",
       "      <td>...</td>\n",
       "      <td>...</td>\n",
       "      <td>...</td>\n",
       "      <td>...</td>\n",
       "      <td>...</td>\n",
       "      <td>...</td>\n",
       "      <td>...</td>\n",
       "      <td>...</td>\n",
       "    </tr>\n",
       "    <tr>\n",
       "      <th>566</th>\n",
       "      <td>Canala</td>\n",
       "      <td>-21.5333</td>\n",
       "      <td>165.9500</td>\n",
       "      <td>298.42</td>\n",
       "      <td>62</td>\n",
       "      <td>45</td>\n",
       "      <td>3.00</td>\n",
       "      <td>NC</td>\n",
       "      <td>1633988641</td>\n",
       "    </tr>\n",
       "    <tr>\n",
       "      <th>569</th>\n",
       "      <td>Lábrea</td>\n",
       "      <td>-7.2586</td>\n",
       "      <td>-64.7981</td>\n",
       "      <td>303.71</td>\n",
       "      <td>55</td>\n",
       "      <td>92</td>\n",
       "      <td>0.93</td>\n",
       "      <td>BR</td>\n",
       "      <td>1633988643</td>\n",
       "    </tr>\n",
       "    <tr>\n",
       "      <th>571</th>\n",
       "      <td>Codrington</td>\n",
       "      <td>-38.2667</td>\n",
       "      <td>141.9667</td>\n",
       "      <td>280.96</td>\n",
       "      <td>76</td>\n",
       "      <td>20</td>\n",
       "      <td>5.23</td>\n",
       "      <td>AU</td>\n",
       "      <td>1633988643</td>\n",
       "    </tr>\n",
       "    <tr>\n",
       "      <th>576</th>\n",
       "      <td>Ambon City</td>\n",
       "      <td>-3.6954</td>\n",
       "      <td>128.1814</td>\n",
       "      <td>297.23</td>\n",
       "      <td>94</td>\n",
       "      <td>20</td>\n",
       "      <td>2.06</td>\n",
       "      <td>ID</td>\n",
       "      <td>1633988645</td>\n",
       "    </tr>\n",
       "    <tr>\n",
       "      <th>577</th>\n",
       "      <td>Manokwari</td>\n",
       "      <td>-0.8667</td>\n",
       "      <td>134.0833</td>\n",
       "      <td>300.15</td>\n",
       "      <td>74</td>\n",
       "      <td>59</td>\n",
       "      <td>1.69</td>\n",
       "      <td>ID</td>\n",
       "      <td>1633988636</td>\n",
       "    </tr>\n",
       "  </tbody>\n",
       "</table>\n",
       "<p>193 rows × 9 columns</p>\n",
       "</div>"
      ],
      "text/plain": [
       "           city      lat       lng  max_temp  humidity  cloudiness  \\\n",
       "0     Cape Town -33.9258   18.4232    291.08        85           0   \n",
       "4        Hobart -42.8794  147.3294    282.66        81          40   \n",
       "6       Mataura -46.1927  168.8643    279.16        87          99   \n",
       "7      Hermanus -34.4187   19.2345    289.21        80         100   \n",
       "9       Rikitea -23.1203 -134.9692    296.61        77          90   \n",
       "..          ...      ...       ...       ...       ...         ...   \n",
       "566      Canala -21.5333  165.9500    298.42        62          45   \n",
       "569      Lábrea  -7.2586  -64.7981    303.71        55          92   \n",
       "571  Codrington -38.2667  141.9667    280.96        76          20   \n",
       "576  Ambon City  -3.6954  128.1814    297.23        94          20   \n",
       "577   Manokwari  -0.8667  134.0833    300.15        74          59   \n",
       "\n",
       "     wind_speed country        date  \n",
       "0          0.45      ZA  1633988204  \n",
       "4          0.45      AU  1633988456  \n",
       "6          3.93      NZ  1633988456  \n",
       "7          0.93      ZA  1633988457  \n",
       "9          5.92      PF  1633988457  \n",
       "..          ...     ...         ...  \n",
       "566        3.00      NC  1633988641  \n",
       "569        0.93      BR  1633988643  \n",
       "571        5.23      AU  1633988643  \n",
       "576        2.06      ID  1633988645  \n",
       "577        1.69      ID  1633988636  \n",
       "\n",
       "[193 rows x 9 columns]"
      ]
     },
     "execution_count": 43,
     "metadata": {},
     "output_type": "execute_result"
    }
   ],
   "source": [
    "# Create dataFrame for Southern Hemisphere Data\n",
    "s_hem = weather_df[weather_df['lat'] <= 0]\n",
    "s_hem"
   ]
  },
  {
   "cell_type": "code",
   "execution_count": 89,
   "metadata": {},
   "outputs": [
    {
     "data": {
      "text/plain": [
       "<AxesSubplot:xlabel='lat', ylabel='max_temp'>"
      ]
     },
     "execution_count": 89,
     "metadata": {},
     "output_type": "execute_result"
    },
    {
     "data": {
      "image/png": "[encoded data removed]",
      "text/plain": [
       "<Figure size 432x288 with 1 Axes>"
      ]
     },
     "metadata": {
      "needs_background": "light"
     },
     "output_type": "display_data"
    }
   ],
   "source": [
    "#create scatter plot\n",
    "s_hem.plot(kind=\"scatter\", x='lat', y='max_temp')"
   ]
  },
  {
   "cell_type": "code",
   "execution_count": 91,
   "metadata": {},
   "outputs": [
    {
     "name": "stdout",
     "output_type": "stream",
     "text": [
      "0      288.595646\n",
      "4      285.378717\n",
      "6      284.188286\n",
      "7      288.418552\n",
      "9      292.477941\n",
      "          ...    \n",
      "566    293.048132\n",
      "569    298.176872\n",
      "571    287.036009\n",
      "576    299.457090\n",
      "577    300.473411\n",
      "Name: lat, Length: 193, dtype: float64\n"
     ]
    }
   ],
   "source": [
    "#find linear regression on temperature vs. latitude\n",
    "#source: In class examples\n",
    "from scipy import stats\n",
    "\n",
    "    \n",
    "(slope, intercept, rvalue, pvalue, stderr) = stats.linregress(s_hem['lat'], s_hem['max_temp'])\n",
    "\n",
    " #Get regression values\n",
    "regress_values_s = s_hem['lat'] * slope + intercept\n",
    "print(regress_values_s)\n"
   ]
  },
  {
   "cell_type": "code",
   "execution_count": 92,
   "metadata": {},
   "outputs": [
    {
     "name": "stdout",
     "output_type": "stream",
     "text": [
      "y = 0.36x +300.78\n"
     ]
    }
   ],
   "source": [
    "# Create line equation string\n",
    "line_eq_s = \"y = \" + str(round(slope,2)) + \"x +\" + str(round(intercept,2))\n",
    "print(line_eq_s)"
   ]
  },
  {
   "cell_type": "code",
   "execution_count": 94,
   "metadata": {},
   "outputs": [
    {
     "name": "stdout",
     "output_type": "stream",
     "text": [
      "The r-value is: 0.5028570108125375\n"
     ]
    },
    {
     "data": {
      "image/png": "[encoded data removed]",
      "text/plain": [
       "<Figure size 432x288 with 1 Axes>"
      ]
     },
     "metadata": {
      "needs_background": "light"
     },
     "output_type": "display_data"
    },
    {
     "data": {
      "text/plain": [
       "<Figure size 432x288 with 0 Axes>"
      ]
     },
     "metadata": {},
     "output_type": "display_data"
    }
   ],
   "source": [
    "# Create Plot\n",
    "plt.scatter(s_hem['lat'], s_hem['max_temp'])\n",
    "plt.plot(s_hem['lat'],regress_values_s,\"r-\")\n",
    "\n",
    "# Label plot and annotate the line equation\n",
    "plt.xlabel('Latitude')\n",
    "plt.ylabel('Temperature (Kelvin)')\n",
    "plt.annotate(line_eq_s,(0,260),fontsize=15,color=\"red\")\n",
    "\n",
    "# Print r value\n",
    "print(f\"The r-value is: {rvalue**2}\")\n",
    "\n",
    "# Show plot\n",
    "plt.show()\n",
    "\n",
    "# Save the figure\n",
    "plt.savefig(\"SHLinReg.png\")\n"
   ]
  },
  {
   "cell_type": "markdown",
   "metadata": {},
   "source": [
    "####  Northern Hemisphere - Humidity (%) vs. Latitude Linear Regression"
   ]
  },
  {
   "cell_type": "code",
   "execution_count": 96,
   "metadata": {},
   "outputs": [
    {
     "data": {
      "text/plain": [
       "<AxesSubplot:xlabel='lat', ylabel='humidity'>"
      ]
     },
     "execution_count": 96,
     "metadata": {},
     "output_type": "execute_result"
    },
    {
     "data": {
      "image/png": "[encoded data removed]",
      "text/plain": [
       "<Figure size 432x288 with 1 Axes>"
      ]
     },
     "metadata": {
      "needs_background": "light"
     },
     "output_type": "display_data"
    }
   ],
   "source": [
    "#create scatter plot\n",
    "n_hem.plot(kind=\"scatter\", x='lat', y='humidity')"
   ]
  },
  {
   "cell_type": "code",
   "execution_count": 104,
   "metadata": {},
   "outputs": [
    {
     "name": "stdout",
     "output_type": "stream",
     "text": [
      "1      77.603243\n",
      "2      77.220998\n",
      "3      73.836507\n",
      "5      71.665102\n",
      "8      71.049199\n",
      "         ...    \n",
      "573    71.167454\n",
      "574    73.600181\n",
      "575    70.356419\n",
      "578    76.611164\n",
      "579    69.552928\n",
      "Name: lat, Length: 387, dtype: float64\n"
     ]
    }
   ],
   "source": [
    "(slope, intercept, rvalue, pvalue, stderr) = stats.linregress(n_hem['lat'], n_hem['humidity'])\n",
    "\n",
    " #Get regression values\n",
    "regress_values_nh = n_hem['lat'] * slope + intercept\n",
    "print(regress_values_nh)"
   ]
  },
  {
   "cell_type": "code",
   "execution_count": 105,
   "metadata": {},
   "outputs": [
    {
     "name": "stdout",
     "output_type": "stream",
     "text": [
      "y = 0.12x +68.64\n"
     ]
    }
   ],
   "source": [
    "# Create line equation string\n",
    "line_eq_nh = \"y = \" + str(round(slope,2)) + \"x +\" + str(round(intercept,2))\n",
    "print(line_eq_nh)"
   ]
  },
  {
   "cell_type": "code",
   "execution_count": 109,
   "metadata": {},
   "outputs": [
    {
     "name": "stdout",
     "output_type": "stream",
     "text": [
      "The r-value is: 0.017110366439191737\n"
     ]
    },
    {
     "data": {
      "image/png": "[encoded data removed]",
      "text/plain": [
       "<Figure size 432x288 with 1 Axes>"
      ]
     },
     "metadata": {
      "needs_background": "light"
     },
     "output_type": "display_data"
    },
    {
     "data": {
      "text/plain": [
       "<Figure size 432x288 with 0 Axes>"
      ]
     },
     "metadata": {},
     "output_type": "display_data"
    }
   ],
   "source": [
    "# Create Plot\n",
    "plt.scatter(n_hem['lat'], n_hem['humidity'])\n",
    "plt.plot(n_hem['lat'],regress_values_nh,\"r-\")\n",
    "\n",
    "# Label plot and annotate the line equation\n",
    "plt.xlabel('Latitude')\n",
    "plt.ylabel('Humidity %')\n",
    "plt.annotate(line_eq_nh,(40,20),fontsize=15,color=\"red\")\n",
    "\n",
    "# Print r value\n",
    "print(f\"The r-value is: {rvalue**2}\")\n",
    "\n",
    "# Show plot\n",
    "plt.show()\n",
    "\n",
    "# Save the figure\n",
    "plt.savefig(\"NHLinRegHumidity.png\")"
   ]
  },
  {
   "cell_type": "markdown",
   "metadata": {},
   "source": [
    "####  Southern Hemisphere - Humidity (%) vs. Latitude Linear Regression"
   ]
  },
  {
   "cell_type": "code",
   "execution_count": 110,
   "metadata": {},
   "outputs": [
    {
     "data": {
      "text/plain": [
       "<AxesSubplot:xlabel='lat', ylabel='humidity'>"
      ]
     },
     "execution_count": 110,
     "metadata": {},
     "output_type": "execute_result"
    },
    {
     "data": {
      "image/png": "[encoded data removed]",
      "text/plain": [
       "<Figure size 432x288 with 1 Axes>"
      ]
     },
     "metadata": {
      "needs_background": "light"
     },
     "output_type": "display_data"
    }
   ],
   "source": [
    "#create scatter plot\n",
    "s_hem.plot(kind=\"scatter\", x='lat', y='humidity')"
   ]
  },
  {
   "cell_type": "code",
   "execution_count": 112,
   "metadata": {},
   "outputs": [
    {
     "name": "stdout",
     "output_type": "stream",
     "text": [
      "0      67.009770\n",
      "4      63.987636\n",
      "6      62.869288\n",
      "7      66.843400\n",
      "9      70.656982\n",
      "         ...    \n",
      "566    71.192647\n",
      "569    76.010827\n",
      "571    65.544574\n",
      "576    77.213524\n",
      "577    78.168303\n",
      "Name: lat, Length: 193, dtype: float64\n"
     ]
    }
   ],
   "source": [
    "(slope, intercept, rvalue, pvalue, stderr) = stats.linregress(s_hem['lat'], s_hem['humidity'])\n",
    "\n",
    " #Get regression values\n",
    "regress_values_sh = s_hem['lat'] * slope + intercept\n",
    "print(regress_values_sh)"
   ]
  },
  {
   "cell_type": "code",
   "execution_count": 113,
   "metadata": {},
   "outputs": [
    {
     "name": "stdout",
     "output_type": "stream",
     "text": [
      "y = 0.34x +78.46\n"
     ]
    }
   ],
   "source": [
    "# Create line equation string\n",
    "line_eq_sh = \"y = \" + str(round(slope,2)) + \"x +\" + str(round(intercept,2))\n",
    "print(line_eq_sh)"
   ]
  },
  {
   "cell_type": "code",
   "execution_count": 114,
   "metadata": {},
   "outputs": [
    {
     "name": "stdout",
     "output_type": "stream",
     "text": [
      "The r-value is: 0.054083065208880295\n"
     ]
    },
    {
     "data": {
      "image/png": "[encoded data removed]",
      "text/plain": [
       "<Figure size 432x288 with 1 Axes>"
      ]
     },
     "metadata": {
      "needs_background": "light"
     },
     "output_type": "display_data"
    },
    {
     "data": {
      "text/plain": [
       "<Figure size 432x288 with 0 Axes>"
      ]
     },
     "metadata": {},
     "output_type": "display_data"
    }
   ],
   "source": [
    "# Create Plot\n",
    "plt.scatter(s_hem['lat'], s_hem['humidity'])\n",
    "plt.plot(s_hem['lat'],regress_values_sh,\"r-\")\n",
    "\n",
    "# Label plot and annotate the line equation\n",
    "plt.xlabel('Latitude')\n",
    "plt.ylabel('Humidity %')\n",
    "plt.annotate(line_eq_sh,(40,20),fontsize=15,color=\"red\")\n",
    "\n",
    "# Print r value\n",
    "print(f\"The r-value is: {rvalue**2}\")\n",
    "\n",
    "# Show plot\n",
    "plt.show()\n",
    "\n",
    "# Save the figure\n",
    "plt.savefig(\"SHLinRegHumidity.png\")"
   ]
  },
  {
   "cell_type": "markdown",
   "metadata": {},
   "source": [
    "####  Northern Hemisphere - Cloudiness (%) vs. Latitude Linear Regression"
   ]
  },
  {
   "cell_type": "code",
   "execution_count": 98,
   "metadata": {},
   "outputs": [
    {
     "data": {
      "text/plain": [
       "<AxesSubplot:xlabel='lat', ylabel='cloudiness'>"
      ]
     },
     "execution_count": 98,
     "metadata": {},
     "output_type": "execute_result"
    },
    {
     "data": {
      "image/png": "[encoded data removed]",
      "text/plain": [
       "<Figure size 432x288 with 1 Axes>"
      ]
     },
     "metadata": {
      "needs_background": "light"
     },
     "output_type": "display_data"
    }
   ],
   "source": [
    "#create scatter plot\n",
    "n_hem.plot(kind=\"scatter\", x='lat', y='cloudiness')"
   ]
  },
  {
   "cell_type": "code",
   "execution_count": 115,
   "metadata": {},
   "outputs": [
    {
     "name": "stdout",
     "output_type": "stream",
     "text": [
      "1      67.007410\n",
      "2      66.452618\n",
      "3      61.540365\n",
      "5      58.388786\n",
      "8      57.494864\n",
      "         ...    \n",
      "573    57.666499\n",
      "574    61.197362\n",
      "575    56.489361\n",
      "578    65.567506\n",
      "579    55.323174\n",
      "Name: lat, Length: 387, dtype: float64\n"
     ]
    }
   ],
   "source": [
    "(slope, intercept, rvalue, pvalue, stderr) = stats.linregress(n_hem['lat'], n_hem['cloudiness'])\n",
    "\n",
    " #Get regression values\n",
    "regress_values_nc = n_hem['lat'] * slope + intercept\n",
    "print(regress_values_nc)"
   ]
  },
  {
   "cell_type": "code",
   "execution_count": 116,
   "metadata": {},
   "outputs": [
    {
     "name": "stdout",
     "output_type": "stream",
     "text": [
      "y = 0.18x +54.0\n"
     ]
    }
   ],
   "source": [
    "# Create line equation string\n",
    "line_eq_nc = \"y = \" + str(round(slope,2)) + \"x +\" + str(round(intercept,2))\n",
    "print(line_eq_nc)"
   ]
  },
  {
   "cell_type": "code",
   "execution_count": 118,
   "metadata": {},
   "outputs": [
    {
     "name": "stdout",
     "output_type": "stream",
     "text": [
      "The r-value is: 0.008627303062195573\n"
     ]
    },
    {
     "data": {
      "image/png": "[encoded data removed]",
      "text/plain": [
       "<Figure size 432x288 with 1 Axes>"
      ]
     },
     "metadata": {
      "needs_background": "light"
     },
     "output_type": "display_data"
    },
    {
     "data": {
      "text/plain": [
       "<Figure size 432x288 with 0 Axes>"
      ]
     },
     "metadata": {},
     "output_type": "display_data"
    }
   ],
   "source": [
    "# Create Plot\n",
    "plt.scatter(n_hem['lat'], n_hem['cloudiness'])\n",
    "plt.plot(n_hem['lat'],regress_values_nc,\"r-\")\n",
    "\n",
    "# Label plot and annotate the line equation\n",
    "plt.xlabel('Latitude')\n",
    "plt.ylabel('Cloudiness %')\n",
    "plt.annotate(line_eq_nc,(0,10),fontsize=15,color=\"red\")\n",
    "\n",
    "# Print r value\n",
    "print(f\"The r-value is: {rvalue**2}\")\n",
    "\n",
    "# Show plot\n",
    "plt.show()\n",
    "\n",
    "# Save the figure\n",
    "plt.savefig(\"NHLinRegCloudiness.png\")"
   ]
  },
  {
   "cell_type": "markdown",
   "metadata": {},
   "source": [
    "####  Southern Hemisphere - Cloudiness (%) vs. Latitude Linear Regression"
   ]
  },
  {
   "cell_type": "code",
   "execution_count": 99,
   "metadata": {},
   "outputs": [
    {
     "data": {
      "text/plain": [
       "<AxesSubplot:xlabel='lat', ylabel='cloudiness'>"
      ]
     },
     "execution_count": 99,
     "metadata": {},
     "output_type": "execute_result"
    },
    {
     "data": {
      "image/png": "[encoded data removed]",
      "text/plain": [
       "<Figure size 432x288 with 1 Axes>"
      ]
     },
     "metadata": {
      "needs_background": "light"
     },
     "output_type": "display_data"
    }
   ],
   "source": [
    "#create scatter plot\n",
    "s_hem.plot(kind=\"scatter\", x='lat', y='cloudiness')"
   ]
  },
  {
   "cell_type": "code",
   "execution_count": 119,
   "metadata": {},
   "outputs": [
    {
     "name": "stdout",
     "output_type": "stream",
     "text": [
      "0      61.229172\n",
      "4      60.657729\n",
      "6      60.446266\n",
      "7      61.197714\n",
      "9      61.918807\n",
      "         ...    \n",
      "566    62.020094\n",
      "569    62.931143\n",
      "571    60.952124\n",
      "576    63.158556\n",
      "577    63.339091\n",
      "Name: lat, Length: 193, dtype: float64\n"
     ]
    }
   ],
   "source": [
    "(slope, intercept, rvalue, pvalue, stderr) = stats.linregress(s_hem['lat'], s_hem['cloudiness'])\n",
    "\n",
    " #Get regression values\n",
    "regress_values_sc = s_hem['lat'] * slope + intercept\n",
    "print(regress_values_sc)"
   ]
  },
  {
   "cell_type": "code",
   "execution_count": 120,
   "metadata": {},
   "outputs": [
    {
     "name": "stdout",
     "output_type": "stream",
     "text": [
      "y = 0.06x +63.39\n"
     ]
    }
   ],
   "source": [
    "# Create line equation string\n",
    "line_eq_sc = \"y = \" + str(round(slope,2)) + \"x +\" + str(round(intercept,2))\n",
    "print(line_eq_sc)"
   ]
  },
  {
   "cell_type": "code",
   "execution_count": 127,
   "metadata": {},
   "outputs": [
    {
     "name": "stdout",
     "output_type": "stream",
     "text": [
      "The r-value is: 0.0006162485751002986\n"
     ]
    },
    {
     "data": {
      "image/png": "[encoded data removed]",
      "text/plain": [
       "<Figure size 432x288 with 1 Axes>"
      ]
     },
     "metadata": {
      "needs_background": "light"
     },
     "output_type": "display_data"
    },
    {
     "data": {
      "text/plain": [
       "<Figure size 432x288 with 0 Axes>"
      ]
     },
     "metadata": {},
     "output_type": "display_data"
    }
   ],
   "source": [
    "# Create Plot\n",
    "plt.scatter(s_hem['lat'], s_hem['cloudiness'])\n",
    "plt.plot(s_hem['lat'],regress_values_sc,\"r-\")\n",
    "\n",
    "# Label plot and annotate the line equation\n",
    "plt.xlabel('Latitude')\n",
    "plt.ylabel('Cloudiness %')\n",
    "plt.annotate(line_eq_sc,(0, 30),fontsize=15,color=\"red\")\n",
    "\n",
    "# Print r value\n",
    "print(f\"The r-value is: {rvalue**2}\")\n",
    "\n",
    "# Show plot\n",
    "plt.show()\n",
    "\n",
    "# Save the figure\n",
    "plt.savefig(\"SHLinRegCloudiness.png\")"
   ]
  },
  {
   "cell_type": "markdown",
   "metadata": {},
   "source": [
    "####  Northern Hemisphere - Wind Speed (mph) vs. Latitude Linear Regression"
   ]
  },
  {
   "cell_type": "code",
   "execution_count": 100,
   "metadata": {},
   "outputs": [
    {
     "data": {
      "text/plain": [
       "<AxesSubplot:xlabel='lat', ylabel='wind_speed'>"
      ]
     },
     "execution_count": 100,
     "metadata": {},
     "output_type": "execute_result"
    },
    {
     "data": {
      "image/png": "[encoded data removed]",
      "text/plain": [
       "<Figure size 432x288 with 1 Axes>"
      ]
     },
     "metadata": {
      "needs_background": "light"
     },
     "output_type": "display_data"
    }
   ],
   "source": [
    "#create scatter plot\n",
    "n_hem.plot(kind=\"scatter\", x='lat', y='wind_speed')"
   ]
  },
  {
   "cell_type": "code",
   "execution_count": 128,
   "metadata": {},
   "outputs": [
    {
     "name": "stdout",
     "output_type": "stream",
     "text": [
      "1      3.422645\n",
      "2      3.434550\n",
      "3      3.539954\n",
      "5      3.607579\n",
      "8      3.626761\n",
      "         ...   \n",
      "573    3.623078\n",
      "574    3.547314\n",
      "575    3.648336\n",
      "578    3.453542\n",
      "579    3.673360\n",
      "Name: lat, Length: 387, dtype: float64\n"
     ]
    }
   ],
   "source": [
    "(slope, intercept, rvalue, pvalue, stderr) = stats.linregress(n_hem['lat'], n_hem['wind_speed'])\n",
    "\n",
    " #Get regression values\n",
    "regress_values_nw = n_hem['lat'] * slope + intercept\n",
    "print(regress_values_nw)"
   ]
  },
  {
   "cell_type": "code",
   "execution_count": 129,
   "metadata": {},
   "outputs": [
    {
     "name": "stdout",
     "output_type": "stream",
     "text": [
      "y = -0.0x +3.7\n"
     ]
    }
   ],
   "source": [
    "# Create line equation string\n",
    "line_eq_nw = \"y = \" + str(round(slope,2)) + \"x +\" + str(round(intercept,2))\n",
    "print(line_eq_nw)"
   ]
  },
  {
   "cell_type": "code",
   "execution_count": 134,
   "metadata": {},
   "outputs": [
    {
     "name": "stdout",
     "output_type": "stream",
     "text": [
      "The r-value is: 0.0008285047190879475\n"
     ]
    },
    {
     "data": {
      "image/png": "[encoded data removed]",
      "text/plain": [
       "<Figure size 432x288 with 1 Axes>"
      ]
     },
     "metadata": {
      "needs_background": "light"
     },
     "output_type": "display_data"
    },
    {
     "data": {
      "text/plain": [
       "<Figure size 432x288 with 0 Axes>"
      ]
     },
     "metadata": {},
     "output_type": "display_data"
    }
   ],
   "source": [
    "# Create Plot\n",
    "plt.scatter(n_hem['lat'], n_hem['wind_speed'])\n",
    "plt.plot(n_hem['lat'],regress_values_nw,\"r-\")\n",
    "\n",
    "# Label plot and annotate the line equation\n",
    "plt.xlabel('Latitude')\n",
    "plt.ylabel('Wind Speed')\n",
    "plt.annotate(line_eq_nw,(50, 12.5),fontsize=15,color=\"red\")\n",
    "\n",
    "# Print r value\n",
    "print(f\"The r-value is: {rvalue**2}\")\n",
    "\n",
    "# Show plot\n",
    "plt.show()\n",
    "\n",
    "# Save the figure\n",
    "plt.savefig(\"NHLinRegWindSpeed.png\")"
   ]
  },
  {
   "cell_type": "markdown",
   "metadata": {},
   "source": [
    "####  Southern Hemisphere - Wind Speed (mph) vs. Latitude Linear Regression"
   ]
  },
  {
   "cell_type": "code",
   "execution_count": 101,
   "metadata": {},
   "outputs": [
    {
     "data": {
      "text/plain": [
       "<AxesSubplot:xlabel='lat', ylabel='wind_speed'>"
      ]
     },
     "execution_count": 101,
     "metadata": {},
     "output_type": "execute_result"
    },
    {
     "data": {
      "image/png": "[encoded data removed]",
      "text/plain": [
       "<Figure size 432x288 with 1 Axes>"
      ]
     },
     "metadata": {
      "needs_background": "light"
     },
     "output_type": "display_data"
    }
   ],
   "source": [
    "#create scatter plot\n",
    "s_hem.plot(kind=\"scatter\", x='lat', y='wind_speed')"
   ]
  },
  {
   "cell_type": "code",
   "execution_count": 135,
   "metadata": {},
   "outputs": [
    {
     "name": "stdout",
     "output_type": "stream",
     "text": [
      "0      4.391589\n",
      "4      4.959427\n",
      "6      5.169557\n",
      "7      4.422849\n",
      "9      3.706304\n",
      "         ...   \n",
      "566    3.605657\n",
      "569    2.700354\n",
      "571    4.666890\n",
      "576    2.474376\n",
      "577    2.294980\n",
      "Name: lat, Length: 193, dtype: float64\n"
     ]
    }
   ],
   "source": [
    "(slope, intercept, rvalue, pvalue, stderr) = stats.linregress(s_hem['lat'], s_hem['wind_speed'])\n",
    "\n",
    " #Get regression values\n",
    "regress_values_sw = s_hem['lat'] * slope + intercept\n",
    "print(regress_values_sw)"
   ]
  },
  {
   "cell_type": "code",
   "execution_count": 136,
   "metadata": {},
   "outputs": [
    {
     "name": "stdout",
     "output_type": "stream",
     "text": [
      "y = -0.06x +2.24\n"
     ]
    }
   ],
   "source": [
    "# Create line equation string\n",
    "line_eq_sw = \"y = \" + str(round(slope,2)) + \"x +\" + str(round(intercept,2))\n",
    "print(line_eq_sw)"
   ]
  },
  {
   "cell_type": "code",
   "execution_count": 139,
   "metadata": {},
   "outputs": [
    {
     "name": "stdout",
     "output_type": "stream",
     "text": [
      "The r-value is: 0.11461380864443395\n"
     ]
    },
    {
     "data": {
      "image/png": "[encoded data removed]",
      "text/plain": [
       "<Figure size 432x288 with 1 Axes>"
      ]
     },
     "metadata": {
      "needs_background": "light"
     },
     "output_type": "display_data"
    },
    {
     "data": {
      "text/plain": [
       "<Figure size 432x288 with 0 Axes>"
      ]
     },
     "metadata": {},
     "output_type": "display_data"
    }
   ],
   "source": [
    "# Create Plot\n",
    "plt.scatter(s_hem['lat'], s_hem['wind_speed'])\n",
    "plt.plot(s_hem['lat'],regress_values_sw,\"r-\")\n",
    "\n",
    "# Label plot and annotate the line equation\n",
    "plt.xlabel('Latitude')\n",
    "plt.ylabel('Wind Speed')\n",
    "plt.annotate(line_eq_sw,(0, 10),fontsize=15,color=\"red\")\n",
    "\n",
    "# Print r value\n",
    "print(f\"The r-value is: {rvalue**2}\")\n",
    "\n",
    "# Show plot\n",
    "plt.show()\n",
    "\n",
    "# Save the figure\n",
    "plt.savefig(\"SHLinRegWindSpeed.png\")"
   ]
  }
 ],
 "metadata": {
  "anaconda-cloud": {},
  "kernel_info": {
   "name": "python3"
  },
  "kernelspec": {
   "display_name": "Python 3",
   "language": "python",
   "name": "python3"
  },
  "language_info": {
   "codemirror_mode": {
    "name": "ipython",
    "version": 3
   },
   "file_extension": ".py",
   "mimetype": "text/x-python",
   "name": "python",
   "nbconvert_exporter": "python",
   "pygments_lexer": "ipython3",
   "version": "3.8.8"
  },
  "latex_envs": {
   "LaTeX_envs_menu_present": true,
   "autoclose": false,
   "autocomplete": true,
   "bibliofile": "biblio.bib",
   "cite_by": "apalike",
   "current_citInitial": 1,
   "eqLabelWithNumbers": true,
   "eqNumInitial": 1,
   "hotkeys": {
    "equation": "Ctrl-E",
    "itemize": "Ctrl-I"
   },
   "labels_anchors": false,
   "latex_user_defs": false,
   "report_style_numbering": false,
   "user_envs_cfg": false
  },
  "nteract": {
   "version": "0.12.3"
  }
 },
 "nbformat": 4,
 "nbformat_minor": 2
}
